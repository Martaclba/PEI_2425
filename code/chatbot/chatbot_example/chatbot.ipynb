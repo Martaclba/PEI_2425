{
 "cells": [
  {
   "cell_type": "markdown",
   "metadata": {},
   "source": [
    "# MyPharma ChatBot"
   ]
  },
  {
   "cell_type": "markdown",
   "metadata": {},
   "source": [
    "### Projeto de Engenharia Informática"
   ]
  },
  {
   "cell_type": "code",
   "execution_count": 34,
   "metadata": {},
   "outputs": [
    {
     "name": "stdout",
     "output_type": "stream",
     "text": [
      "Defaulting to user installation because normal site-packages is not writeable\n",
      "Requirement already satisfied: pdf2image in c:\\users\\marta\\appdata\\roaming\\python\\python312\\site-packages (from -r ../requirements.txt (line 1)) (1.17.0)\n",
      "Requirement already satisfied: pytesseract in c:\\users\\marta\\appdata\\roaming\\python\\python312\\site-packages (from -r ../requirements.txt (line 2)) (0.3.13)\n",
      "Requirement already satisfied: pymupdf4llm in c:\\users\\marta\\appdata\\roaming\\python\\python312\\site-packages (from -r ../requirements.txt (line 3)) (0.0.17)\n",
      "Requirement already satisfied: langchain in c:\\users\\marta\\appdata\\roaming\\python\\python312\\site-packages (from -r ../requirements.txt (line 4)) (0.3.4)\n",
      "Requirement already satisfied: langchain-openai in c:\\users\\marta\\appdata\\roaming\\python\\python312\\site-packages (from -r ../requirements.txt (line 5)) (0.2.10)\n",
      "Requirement already satisfied: openai in c:\\users\\marta\\appdata\\roaming\\python\\python312\\site-packages (from -r ../requirements.txt (line 6)) (1.55.2)\n",
      "Requirement already satisfied: langchain-ollama in c:\\users\\marta\\appdata\\roaming\\python\\python312\\site-packages (from -r ../requirements.txt (line 7)) (0.2.0)\n",
      "Requirement already satisfied: langchain-text-splitters in c:\\users\\marta\\appdata\\roaming\\python\\python312\\site-packages (from -r ../requirements.txt (line 8)) (0.3.0)\n",
      "Requirement already satisfied: langchain-community in c:\\users\\marta\\appdata\\roaming\\python\\python312\\site-packages (from -r ../requirements.txt (line 9)) (0.3.3)\n",
      "Requirement already satisfied: faiss-cpu in c:\\users\\marta\\appdata\\roaming\\python\\python312\\site-packages (from -r ../requirements.txt (line 10)) (1.9.0)\n",
      "Requirement already satisfied: langgraph in c:\\users\\marta\\appdata\\roaming\\python\\python312\\site-packages (from -r ../requirements.txt (line 11)) (0.2.48)\n",
      "Requirement already satisfied: fuzzywuzzy in c:\\users\\marta\\appdata\\roaming\\python\\python312\\site-packages (from -r ../requirements.txt (line 12)) (0.18.0)\n",
      "Requirement already satisfied: autocorrect in c:\\users\\marta\\appdata\\roaming\\python\\python312\\site-packages (from -r ../requirements.txt (line 13)) (2.6.1)\n",
      "Requirement already satisfied: spellchecker in c:\\users\\marta\\appdata\\roaming\\python\\python312\\site-packages (from -r ../requirements.txt (line 14)) (0.4)\n",
      "Requirement already satisfied: pyspellchecker in c:\\users\\marta\\appdata\\roaming\\python\\python312\\site-packages (from -r ../requirements.txt (line 15)) (0.8.1)\n",
      "Requirement already satisfied: jupyterlab in c:\\users\\marta\\appdata\\roaming\\python\\python312\\site-packages (from -r ../requirements.txt (line 16)) (4.3.1)\n",
      "Requirement already satisfied: langsmith in c:\\users\\marta\\appdata\\roaming\\python\\python312\\site-packages (from -r ../requirements.txt (line 17)) (0.1.147)\n",
      "Requirement already satisfied: pillow in c:\\users\\marta\\appdata\\roaming\\python\\python312\\site-packages (from pdf2image->-r ../requirements.txt (line 1)) (10.3.0)\n",
      "Requirement already satisfied: packaging>=21.3 in c:\\users\\marta\\appdata\\roaming\\python\\python312\\site-packages (from pytesseract->-r ../requirements.txt (line 2)) (23.2)\n",
      "Requirement already satisfied: pymupdf>=1.24.10 in c:\\users\\marta\\appdata\\roaming\\python\\python312\\site-packages (from pymupdf4llm->-r ../requirements.txt (line 3)) (1.24.13)\n",
      "Requirement already satisfied: PyYAML>=5.3 in c:\\users\\marta\\appdata\\roaming\\python\\python312\\site-packages (from langchain->-r ../requirements.txt (line 4)) (6.0.1)\n",
      "Requirement already satisfied: SQLAlchemy<3,>=1.4 in c:\\users\\marta\\appdata\\roaming\\python\\python312\\site-packages (from langchain->-r ../requirements.txt (line 4)) (2.0.30)\n",
      "Requirement already satisfied: aiohttp<4.0.0,>=3.8.3 in c:\\users\\marta\\appdata\\roaming\\python\\python312\\site-packages (from langchain->-r ../requirements.txt (line 4)) (3.9.5)\n",
      "Requirement already satisfied: langchain-core<0.4.0,>=0.3.12 in c:\\users\\marta\\appdata\\roaming\\python\\python312\\site-packages (from langchain->-r ../requirements.txt (line 4)) (0.3.21)\n",
      "Requirement already satisfied: numpy<2.0.0,>=1.26.0 in c:\\users\\marta\\appdata\\roaming\\python\\python312\\site-packages (from langchain->-r ../requirements.txt (line 4)) (1.26.4)\n",
      "Requirement already satisfied: pydantic<3.0.0,>=2.7.4 in c:\\users\\marta\\appdata\\roaming\\python\\python312\\site-packages (from langchain->-r ../requirements.txt (line 4)) (2.9.2)\n",
      "Requirement already satisfied: requests<3,>=2 in c:\\users\\marta\\appdata\\roaming\\python\\python312\\site-packages (from langchain->-r ../requirements.txt (line 4)) (2.31.0)\n",
      "Requirement already satisfied: tenacity!=8.4.0,<10,>=8.1.0 in c:\\users\\marta\\appdata\\roaming\\python\\python312\\site-packages (from langchain->-r ../requirements.txt (line 4)) (8.3.0)\n",
      "Requirement already satisfied: tiktoken<1,>=0.7 in c:\\users\\marta\\appdata\\roaming\\python\\python312\\site-packages (from langchain-openai->-r ../requirements.txt (line 5)) (0.8.0)\n",
      "Requirement already satisfied: anyio<5,>=3.5.0 in c:\\users\\marta\\appdata\\roaming\\python\\python312\\site-packages (from openai->-r ../requirements.txt (line 6)) (4.3.0)\n",
      "Requirement already satisfied: distro<2,>=1.7.0 in c:\\users\\marta\\appdata\\roaming\\python\\python312\\site-packages (from openai->-r ../requirements.txt (line 6)) (1.9.0)\n",
      "Requirement already satisfied: httpx<1,>=0.23.0 in c:\\users\\marta\\appdata\\roaming\\python\\python312\\site-packages (from openai->-r ../requirements.txt (line 6)) (0.27.0)\n",
      "Requirement already satisfied: jiter<1,>=0.4.0 in c:\\users\\marta\\appdata\\roaming\\python\\python312\\site-packages (from openai->-r ../requirements.txt (line 6)) (0.6.1)\n",
      "Requirement already satisfied: sniffio in c:\\users\\marta\\appdata\\roaming\\python\\python312\\site-packages (from openai->-r ../requirements.txt (line 6)) (1.3.1)\n",
      "Requirement already satisfied: tqdm>4 in c:\\users\\marta\\appdata\\roaming\\python\\python312\\site-packages (from openai->-r ../requirements.txt (line 6)) (4.66.4)\n",
      "Requirement already satisfied: typing-extensions<5,>=4.11 in c:\\users\\marta\\appdata\\roaming\\python\\python312\\site-packages (from openai->-r ../requirements.txt (line 6)) (4.11.0)\n",
      "Requirement already satisfied: ollama<1,>=0.3.0 in c:\\users\\marta\\appdata\\roaming\\python\\python312\\site-packages (from langchain-ollama->-r ../requirements.txt (line 7)) (0.4.1)\n",
      "Requirement already satisfied: dataclasses-json<0.7,>=0.5.7 in c:\\users\\marta\\appdata\\roaming\\python\\python312\\site-packages (from langchain-community->-r ../requirements.txt (line 9)) (0.6.6)\n",
      "Requirement already satisfied: pydantic-settings<3.0.0,>=2.4.0 in c:\\users\\marta\\appdata\\roaming\\python\\python312\\site-packages (from langchain-community->-r ../requirements.txt (line 9)) (2.6.0)\n",
      "Requirement already satisfied: langgraph-checkpoint<3.0.0,>=2.0.4 in c:\\users\\marta\\appdata\\roaming\\python\\python312\\site-packages (from langgraph->-r ../requirements.txt (line 11)) (2.0.4)\n",
      "Requirement already satisfied: langgraph-sdk<0.2.0,>=0.1.32 in c:\\users\\marta\\appdata\\roaming\\python\\python312\\site-packages (from langgraph->-r ../requirements.txt (line 11)) (0.1.36)\n",
      "Requirement already satisfied: setuptools in c:\\users\\marta\\appdata\\roaming\\python\\python312\\site-packages (from spellchecker->-r ../requirements.txt (line 14)) (69.5.1)\n",
      "Requirement already satisfied: inexactsearch in c:\\users\\marta\\appdata\\roaming\\python\\python312\\site-packages (from spellchecker->-r ../requirements.txt (line 14)) (1.0.2)\n",
      "Requirement already satisfied: async-lru>=1.0.0 in c:\\users\\marta\\appdata\\roaming\\python\\python312\\site-packages (from jupyterlab->-r ../requirements.txt (line 16)) (2.0.4)\n",
      "Requirement already satisfied: ipykernel>=6.5.0 in c:\\users\\marta\\appdata\\roaming\\python\\python312\\site-packages (from jupyterlab->-r ../requirements.txt (line 16)) (6.29.4)\n",
      "Requirement already satisfied: jinja2>=3.0.3 in c:\\users\\marta\\appdata\\roaming\\python\\python312\\site-packages (from jupyterlab->-r ../requirements.txt (line 16)) (3.1.3)\n",
      "Requirement already satisfied: jupyter-core in c:\\users\\marta\\appdata\\roaming\\python\\python312\\site-packages (from jupyterlab->-r ../requirements.txt (line 16)) (5.7.2)\n",
      "Requirement already satisfied: jupyter-lsp>=2.0.0 in c:\\users\\marta\\appdata\\roaming\\python\\python312\\site-packages (from jupyterlab->-r ../requirements.txt (line 16)) (2.2.5)\n",
      "Requirement already satisfied: jupyter-server<3,>=2.4.0 in c:\\users\\marta\\appdata\\roaming\\python\\python312\\site-packages (from jupyterlab->-r ../requirements.txt (line 16)) (2.14.0)\n",
      "Requirement already satisfied: jupyterlab-server<3,>=2.27.1 in c:\\users\\marta\\appdata\\roaming\\python\\python312\\site-packages (from jupyterlab->-r ../requirements.txt (line 16)) (2.27.3)\n",
      "Requirement already satisfied: notebook-shim>=0.2 in c:\\users\\marta\\appdata\\roaming\\python\\python312\\site-packages (from jupyterlab->-r ../requirements.txt (line 16)) (0.2.4)\n",
      "Requirement already satisfied: tornado>=6.2.0 in c:\\users\\marta\\appdata\\roaming\\python\\python312\\site-packages (from jupyterlab->-r ../requirements.txt (line 16)) (6.4)\n",
      "Requirement already satisfied: traitlets in c:\\users\\marta\\appdata\\roaming\\python\\python312\\site-packages (from jupyterlab->-r ../requirements.txt (line 16)) (5.14.3)\n",
      "Requirement already satisfied: orjson<4.0.0,>=3.9.14 in c:\\users\\marta\\appdata\\roaming\\python\\python312\\site-packages (from langsmith->-r ../requirements.txt (line 17)) (3.10.3)\n",
      "Requirement already satisfied: requests-toolbelt<2.0.0,>=1.0.0 in c:\\users\\marta\\appdata\\roaming\\python\\python312\\site-packages (from langsmith->-r ../requirements.txt (line 17)) (1.0.0)\n",
      "Requirement already satisfied: aiosignal>=1.1.2 in c:\\users\\marta\\appdata\\roaming\\python\\python312\\site-packages (from aiohttp<4.0.0,>=3.8.3->langchain->-r ../requirements.txt (line 4)) (1.3.1)\n",
      "Requirement already satisfied: attrs>=17.3.0 in c:\\users\\marta\\appdata\\roaming\\python\\python312\\site-packages (from aiohttp<4.0.0,>=3.8.3->langchain->-r ../requirements.txt (line 4)) (23.2.0)\n",
      "Requirement already satisfied: frozenlist>=1.1.1 in c:\\users\\marta\\appdata\\roaming\\python\\python312\\site-packages (from aiohttp<4.0.0,>=3.8.3->langchain->-r ../requirements.txt (line 4)) (1.4.1)\n",
      "Requirement already satisfied: multidict<7.0,>=4.5 in c:\\users\\marta\\appdata\\roaming\\python\\python312\\site-packages (from aiohttp<4.0.0,>=3.8.3->langchain->-r ../requirements.txt (line 4)) (6.0.5)\n",
      "Requirement already satisfied: yarl<2.0,>=1.0 in c:\\users\\marta\\appdata\\roaming\\python\\python312\\site-packages (from aiohttp<4.0.0,>=3.8.3->langchain->-r ../requirements.txt (line 4)) (1.9.4)\n",
      "Requirement already satisfied: idna>=2.8 in c:\\users\\marta\\appdata\\roaming\\python\\python312\\site-packages (from anyio<5,>=3.5.0->openai->-r ../requirements.txt (line 6)) (3.7)\n",
      "Requirement already satisfied: marshmallow<4.0.0,>=3.18.0 in c:\\users\\marta\\appdata\\roaming\\python\\python312\\site-packages (from dataclasses-json<0.7,>=0.5.7->langchain-community->-r ../requirements.txt (line 9)) (3.21.2)\n",
      "Requirement already satisfied: typing-inspect<1,>=0.4.0 in c:\\users\\marta\\appdata\\roaming\\python\\python312\\site-packages (from dataclasses-json<0.7,>=0.5.7->langchain-community->-r ../requirements.txt (line 9)) (0.9.0)\n",
      "Requirement already satisfied: certifi in c:\\users\\marta\\appdata\\roaming\\python\\python312\\site-packages (from httpx<1,>=0.23.0->openai->-r ../requirements.txt (line 6)) (2024.2.2)\n",
      "Requirement already satisfied: httpcore==1.* in c:\\users\\marta\\appdata\\roaming\\python\\python312\\site-packages (from httpx<1,>=0.23.0->openai->-r ../requirements.txt (line 6)) (1.0.5)\n",
      "Requirement already satisfied: h11<0.15,>=0.13 in c:\\users\\marta\\appdata\\roaming\\python\\python312\\site-packages (from httpcore==1.*->httpx<1,>=0.23.0->openai->-r ../requirements.txt (line 6)) (0.14.0)\n",
      "Requirement already satisfied: comm>=0.1.1 in c:\\users\\marta\\appdata\\roaming\\python\\python312\\site-packages (from ipykernel>=6.5.0->jupyterlab->-r ../requirements.txt (line 16)) (0.2.2)\n",
      "Requirement already satisfied: debugpy>=1.6.5 in c:\\users\\marta\\appdata\\roaming\\python\\python312\\site-packages (from ipykernel>=6.5.0->jupyterlab->-r ../requirements.txt (line 16)) (1.8.1)\n",
      "Requirement already satisfied: ipython>=7.23.1 in c:\\users\\marta\\appdata\\roaming\\python\\python312\\site-packages (from ipykernel>=6.5.0->jupyterlab->-r ../requirements.txt (line 16)) (8.23.0)\n",
      "Requirement already satisfied: jupyter-client>=6.1.12 in c:\\users\\marta\\appdata\\roaming\\python\\python312\\site-packages (from ipykernel>=6.5.0->jupyterlab->-r ../requirements.txt (line 16)) (8.6.1)\n",
      "Requirement already satisfied: matplotlib-inline>=0.1 in c:\\users\\marta\\appdata\\roaming\\python\\python312\\site-packages (from ipykernel>=6.5.0->jupyterlab->-r ../requirements.txt (line 16)) (0.1.7)\n",
      "Requirement already satisfied: nest-asyncio in c:\\users\\marta\\appdata\\roaming\\python\\python312\\site-packages (from ipykernel>=6.5.0->jupyterlab->-r ../requirements.txt (line 16)) (1.6.0)\n",
      "Requirement already satisfied: psutil in c:\\users\\marta\\appdata\\roaming\\python\\python312\\site-packages (from ipykernel>=6.5.0->jupyterlab->-r ../requirements.txt (line 16)) (5.9.8)\n",
      "Requirement already satisfied: pyzmq>=24 in c:\\users\\marta\\appdata\\roaming\\python\\python312\\site-packages (from ipykernel>=6.5.0->jupyterlab->-r ../requirements.txt (line 16)) (26.0.2)\n",
      "Requirement already satisfied: MarkupSafe>=2.0 in c:\\users\\marta\\appdata\\roaming\\python\\python312\\site-packages (from jinja2>=3.0.3->jupyterlab->-r ../requirements.txt (line 16)) (2.1.5)\n",
      "Requirement already satisfied: platformdirs>=2.5 in c:\\users\\marta\\appdata\\roaming\\python\\python312\\site-packages (from jupyter-core->jupyterlab->-r ../requirements.txt (line 16)) (4.2.1)\n",
      "Requirement already satisfied: pywin32>=300 in c:\\users\\marta\\appdata\\roaming\\python\\python312\\site-packages (from jupyter-core->jupyterlab->-r ../requirements.txt (line 16)) (306)\n",
      "Requirement already satisfied: argon2-cffi>=21.1 in c:\\users\\marta\\appdata\\roaming\\python\\python312\\site-packages (from jupyter-server<3,>=2.4.0->jupyterlab->-r ../requirements.txt (line 16)) (23.1.0)\n",
      "Requirement already satisfied: jupyter-events>=0.9.0 in c:\\users\\marta\\appdata\\roaming\\python\\python312\\site-packages (from jupyter-server<3,>=2.4.0->jupyterlab->-r ../requirements.txt (line 16)) (0.10.0)\n",
      "Requirement already satisfied: jupyter-server-terminals>=0.4.4 in c:\\users\\marta\\appdata\\roaming\\python\\python312\\site-packages (from jupyter-server<3,>=2.4.0->jupyterlab->-r ../requirements.txt (line 16)) (0.5.3)\n",
      "Requirement already satisfied: nbconvert>=6.4.4 in c:\\users\\marta\\appdata\\roaming\\python\\python312\\site-packages (from jupyter-server<3,>=2.4.0->jupyterlab->-r ../requirements.txt (line 16)) (7.16.3)\n",
      "Requirement already satisfied: nbformat>=5.3.0 in c:\\users\\marta\\appdata\\roaming\\python\\python312\\site-packages (from jupyter-server<3,>=2.4.0->jupyterlab->-r ../requirements.txt (line 16)) (5.10.4)\n",
      "Requirement already satisfied: overrides>=5.0 in c:\\users\\marta\\appdata\\roaming\\python\\python312\\site-packages (from jupyter-server<3,>=2.4.0->jupyterlab->-r ../requirements.txt (line 16)) (7.7.0)\n",
      "Requirement already satisfied: prometheus-client>=0.9 in c:\\users\\marta\\appdata\\roaming\\python\\python312\\site-packages (from jupyter-server<3,>=2.4.0->jupyterlab->-r ../requirements.txt (line 16)) (0.20.0)\n",
      "Requirement already satisfied: pywinpty>=2.0.1 in c:\\users\\marta\\appdata\\roaming\\python\\python312\\site-packages (from jupyter-server<3,>=2.4.0->jupyterlab->-r ../requirements.txt (line 16)) (2.0.13)\n",
      "Requirement already satisfied: send2trash>=1.8.2 in c:\\users\\marta\\appdata\\roaming\\python\\python312\\site-packages (from jupyter-server<3,>=2.4.0->jupyterlab->-r ../requirements.txt (line 16)) (1.8.3)\n",
      "Requirement already satisfied: terminado>=0.8.3 in c:\\users\\marta\\appdata\\roaming\\python\\python312\\site-packages (from jupyter-server<3,>=2.4.0->jupyterlab->-r ../requirements.txt (line 16)) (0.18.1)\n",
      "Requirement already satisfied: websocket-client>=1.7 in c:\\users\\marta\\appdata\\roaming\\python\\python312\\site-packages (from jupyter-server<3,>=2.4.0->jupyterlab->-r ../requirements.txt (line 16)) (1.7.0)\n",
      "Requirement already satisfied: babel>=2.10 in c:\\users\\marta\\appdata\\roaming\\python\\python312\\site-packages (from jupyterlab-server<3,>=2.27.1->jupyterlab->-r ../requirements.txt (line 16)) (2.14.0)\n",
      "Requirement already satisfied: json5>=0.9.0 in c:\\users\\marta\\appdata\\roaming\\python\\python312\\site-packages (from jupyterlab-server<3,>=2.27.1->jupyterlab->-r ../requirements.txt (line 16)) (0.9.25)\n",
      "Requirement already satisfied: jsonschema>=4.18.0 in c:\\users\\marta\\appdata\\roaming\\python\\python312\\site-packages (from jupyterlab-server<3,>=2.27.1->jupyterlab->-r ../requirements.txt (line 16)) (4.21.1)\n",
      "Requirement already satisfied: jsonpatch<2.0,>=1.33 in c:\\users\\marta\\appdata\\roaming\\python\\python312\\site-packages (from langchain-core<0.4.0,>=0.3.12->langchain->-r ../requirements.txt (line 4)) (1.33)\n",
      "Requirement already satisfied: msgpack<2.0.0,>=1.1.0 in c:\\users\\marta\\appdata\\roaming\\python\\python312\\site-packages (from langgraph-checkpoint<3.0.0,>=2.0.4->langgraph->-r ../requirements.txt (line 11)) (1.1.0)\n",
      "Requirement already satisfied: httpx-sse>=0.4.0 in c:\\users\\marta\\appdata\\roaming\\python\\python312\\site-packages (from langgraph-sdk<0.2.0,>=0.1.32->langgraph->-r ../requirements.txt (line 11)) (0.4.0)\n",
      "Requirement already satisfied: annotated-types>=0.6.0 in c:\\users\\marta\\appdata\\roaming\\python\\python312\\site-packages (from pydantic<3.0.0,>=2.7.4->langchain->-r ../requirements.txt (line 4)) (0.6.0)\n",
      "Requirement already satisfied: pydantic-core==2.23.4 in c:\\users\\marta\\appdata\\roaming\\python\\python312\\site-packages (from pydantic<3.0.0,>=2.7.4->langchain->-r ../requirements.txt (line 4)) (2.23.4)\n",
      "Requirement already satisfied: python-dotenv>=0.21.0 in c:\\users\\marta\\appdata\\roaming\\python\\python312\\site-packages (from pydantic-settings<3.0.0,>=2.4.0->langchain-community->-r ../requirements.txt (line 9)) (1.0.1)\n",
      "Requirement already satisfied: charset-normalizer<4,>=2 in c:\\users\\marta\\appdata\\roaming\\python\\python312\\site-packages (from requests<3,>=2->langchain->-r ../requirements.txt (line 4)) (3.3.2)\n",
      "Requirement already satisfied: urllib3<3,>=1.21.1 in c:\\users\\marta\\appdata\\roaming\\python\\python312\\site-packages (from requests<3,>=2->langchain->-r ../requirements.txt (line 4)) (2.2.1)\n",
      "Requirement already satisfied: greenlet!=0.4.17 in c:\\users\\marta\\appdata\\roaming\\python\\python312\\site-packages (from SQLAlchemy<3,>=1.4->langchain->-r ../requirements.txt (line 4)) (3.0.3)\n",
      "Requirement already satisfied: regex>=2022.1.18 in c:\\users\\marta\\appdata\\roaming\\python\\python312\\site-packages (from tiktoken<1,>=0.7->langchain-openai->-r ../requirements.txt (line 5)) (2024.9.11)\n",
      "Requirement already satisfied: colorama in c:\\users\\marta\\appdata\\roaming\\python\\python312\\site-packages (from tqdm>4->openai->-r ../requirements.txt (line 6)) (0.4.6)\n",
      "Requirement already satisfied: soundex>=1.0 in c:\\users\\marta\\appdata\\roaming\\python\\python312\\site-packages (from inexactsearch->spellchecker->-r ../requirements.txt (line 14)) (1.1.3)\n",
      "Requirement already satisfied: silpa-common>=0.3 in c:\\users\\marta\\appdata\\roaming\\python\\python312\\site-packages (from inexactsearch->spellchecker->-r ../requirements.txt (line 14)) (0.3)\n",
      "Requirement already satisfied: argon2-cffi-bindings in c:\\users\\marta\\appdata\\roaming\\python\\python312\\site-packages (from argon2-cffi>=21.1->jupyter-server<3,>=2.4.0->jupyterlab->-r ../requirements.txt (line 16)) (21.2.0)\n",
      "Requirement already satisfied: decorator in c:\\users\\marta\\appdata\\roaming\\python\\python312\\site-packages (from ipython>=7.23.1->ipykernel>=6.5.0->jupyterlab->-r ../requirements.txt (line 16)) (5.1.1)\n",
      "Requirement already satisfied: jedi>=0.16 in c:\\users\\marta\\appdata\\roaming\\python\\python312\\site-packages (from ipython>=7.23.1->ipykernel>=6.5.0->jupyterlab->-r ../requirements.txt (line 16)) (0.19.1)\n",
      "Requirement already satisfied: prompt-toolkit<3.1.0,>=3.0.41 in c:\\users\\marta\\appdata\\roaming\\python\\python312\\site-packages (from ipython>=7.23.1->ipykernel>=6.5.0->jupyterlab->-r ../requirements.txt (line 16)) (3.0.43)\n",
      "Requirement already satisfied: pygments>=2.4.0 in c:\\users\\marta\\appdata\\roaming\\python\\python312\\site-packages (from ipython>=7.23.1->ipykernel>=6.5.0->jupyterlab->-r ../requirements.txt (line 16)) (2.17.2)\n",
      "Requirement already satisfied: stack-data in c:\\users\\marta\\appdata\\roaming\\python\\python312\\site-packages (from ipython>=7.23.1->ipykernel>=6.5.0->jupyterlab->-r ../requirements.txt (line 16)) (0.6.3)\n",
      "Requirement already satisfied: jsonpointer>=1.9 in c:\\users\\marta\\appdata\\roaming\\python\\python312\\site-packages (from jsonpatch<2.0,>=1.33->langchain-core<0.4.0,>=0.3.12->langchain->-r ../requirements.txt (line 4)) (2.4)\n",
      "Requirement already satisfied: jsonschema-specifications>=2023.03.6 in c:\\users\\marta\\appdata\\roaming\\python\\python312\\site-packages (from jsonschema>=4.18.0->jupyterlab-server<3,>=2.27.1->jupyterlab->-r ../requirements.txt (line 16)) (2023.12.1)\n",
      "Requirement already satisfied: referencing>=0.28.4 in c:\\users\\marta\\appdata\\roaming\\python\\python312\\site-packages (from jsonschema>=4.18.0->jupyterlab-server<3,>=2.27.1->jupyterlab->-r ../requirements.txt (line 16)) (0.34.0)\n",
      "Requirement already satisfied: rpds-py>=0.7.1 in c:\\users\\marta\\appdata\\roaming\\python\\python312\\site-packages (from jsonschema>=4.18.0->jupyterlab-server<3,>=2.27.1->jupyterlab->-r ../requirements.txt (line 16)) (0.18.0)\n",
      "Requirement already satisfied: python-dateutil>=2.8.2 in c:\\users\\marta\\appdata\\roaming\\python\\python312\\site-packages (from jupyter-client>=6.1.12->ipykernel>=6.5.0->jupyterlab->-r ../requirements.txt (line 16)) (2.9.0.post0)\n",
      "Requirement already satisfied: python-json-logger>=2.0.4 in c:\\users\\marta\\appdata\\roaming\\python\\python312\\site-packages (from jupyter-events>=0.9.0->jupyter-server<3,>=2.4.0->jupyterlab->-r ../requirements.txt (line 16)) (2.0.7)\n",
      "Requirement already satisfied: rfc3339-validator in c:\\users\\marta\\appdata\\roaming\\python\\python312\\site-packages (from jupyter-events>=0.9.0->jupyter-server<3,>=2.4.0->jupyterlab->-r ../requirements.txt (line 16)) (0.1.4)\n",
      "Requirement already satisfied: rfc3986-validator>=0.1.1 in c:\\users\\marta\\appdata\\roaming\\python\\python312\\site-packages (from jupyter-events>=0.9.0->jupyter-server<3,>=2.4.0->jupyterlab->-r ../requirements.txt (line 16)) (0.1.1)\n",
      "Requirement already satisfied: beautifulsoup4 in c:\\users\\marta\\appdata\\roaming\\python\\python312\\site-packages (from nbconvert>=6.4.4->jupyter-server<3,>=2.4.0->jupyterlab->-r ../requirements.txt (line 16)) (4.12.3)\n",
      "Requirement already satisfied: bleach!=5.0.0 in c:\\users\\marta\\appdata\\roaming\\python\\python312\\site-packages (from nbconvert>=6.4.4->jupyter-server<3,>=2.4.0->jupyterlab->-r ../requirements.txt (line 16)) (6.1.0)\n",
      "Requirement already satisfied: defusedxml in c:\\users\\marta\\appdata\\roaming\\python\\python312\\site-packages (from nbconvert>=6.4.4->jupyter-server<3,>=2.4.0->jupyterlab->-r ../requirements.txt (line 16)) (0.7.1)\n",
      "Requirement already satisfied: jupyterlab-pygments in c:\\users\\marta\\appdata\\roaming\\python\\python312\\site-packages (from nbconvert>=6.4.4->jupyter-server<3,>=2.4.0->jupyterlab->-r ../requirements.txt (line 16)) (0.3.0)\n",
      "Requirement already satisfied: mistune<4,>=2.0.3 in c:\\users\\marta\\appdata\\roaming\\python\\python312\\site-packages (from nbconvert>=6.4.4->jupyter-server<3,>=2.4.0->jupyterlab->-r ../requirements.txt (line 16)) (3.0.2)\n",
      "Requirement already satisfied: nbclient>=0.5.0 in c:\\users\\marta\\appdata\\roaming\\python\\python312\\site-packages (from nbconvert>=6.4.4->jupyter-server<3,>=2.4.0->jupyterlab->-r ../requirements.txt (line 16)) (0.10.0)\n",
      "Requirement already satisfied: pandocfilters>=1.4.1 in c:\\users\\marta\\appdata\\roaming\\python\\python312\\site-packages (from nbconvert>=6.4.4->jupyter-server<3,>=2.4.0->jupyterlab->-r ../requirements.txt (line 16)) (1.5.1)\n",
      "Requirement already satisfied: tinycss2 in c:\\users\\marta\\appdata\\roaming\\python\\python312\\site-packages (from nbconvert>=6.4.4->jupyter-server<3,>=2.4.0->jupyterlab->-r ../requirements.txt (line 16)) (1.2.1)\n",
      "Requirement already satisfied: fastjsonschema>=2.15 in c:\\users\\marta\\appdata\\roaming\\python\\python312\\site-packages (from nbformat>=5.3.0->jupyter-server<3,>=2.4.0->jupyterlab->-r ../requirements.txt (line 16)) (2.19.1)\n",
      "Requirement already satisfied: mypy-extensions>=0.3.0 in c:\\users\\marta\\appdata\\roaming\\python\\python312\\site-packages (from typing-inspect<1,>=0.4.0->dataclasses-json<0.7,>=0.5.7->langchain-community->-r ../requirements.txt (line 9)) (1.0.0)\n",
      "Requirement already satisfied: six>=1.9.0 in c:\\users\\marta\\appdata\\roaming\\python\\python312\\site-packages (from bleach!=5.0.0->nbconvert>=6.4.4->jupyter-server<3,>=2.4.0->jupyterlab->-r ../requirements.txt (line 16)) (1.16.0)\n",
      "Requirement already satisfied: webencodings in c:\\users\\marta\\appdata\\roaming\\python\\python312\\site-packages (from bleach!=5.0.0->nbconvert>=6.4.4->jupyter-server<3,>=2.4.0->jupyterlab->-r ../requirements.txt (line 16)) (0.5.1)\n",
      "Requirement already satisfied: parso<0.9.0,>=0.8.3 in c:\\users\\marta\\appdata\\roaming\\python\\python312\\site-packages (from jedi>=0.16->ipython>=7.23.1->ipykernel>=6.5.0->jupyterlab->-r ../requirements.txt (line 16)) (0.8.4)\n",
      "Requirement already satisfied: fqdn in c:\\users\\marta\\appdata\\roaming\\python\\python312\\site-packages (from jsonschema[format-nongpl]>=4.18.0->jupyter-events>=0.9.0->jupyter-server<3,>=2.4.0->jupyterlab->-r ../requirements.txt (line 16)) (1.5.1)\n",
      "Requirement already satisfied: isoduration in c:\\users\\marta\\appdata\\roaming\\python\\python312\\site-packages (from jsonschema[format-nongpl]>=4.18.0->jupyter-events>=0.9.0->jupyter-server<3,>=2.4.0->jupyterlab->-r ../requirements.txt (line 16)) (20.11.0)\n",
      "Requirement already satisfied: uri-template in c:\\users\\marta\\appdata\\roaming\\python\\python312\\site-packages (from jsonschema[format-nongpl]>=4.18.0->jupyter-events>=0.9.0->jupyter-server<3,>=2.4.0->jupyterlab->-r ../requirements.txt (line 16)) (1.3.0)\n",
      "Requirement already satisfied: webcolors>=1.11 in c:\\users\\marta\\appdata\\roaming\\python\\python312\\site-packages (from jsonschema[format-nongpl]>=4.18.0->jupyter-events>=0.9.0->jupyter-server<3,>=2.4.0->jupyterlab->-r ../requirements.txt (line 16)) (1.13)\n",
      "Requirement already satisfied: wcwidth in c:\\users\\marta\\appdata\\roaming\\python\\python312\\site-packages (from prompt-toolkit<3.1.0,>=3.0.41->ipython>=7.23.1->ipykernel>=6.5.0->jupyterlab->-r ../requirements.txt (line 16)) (0.2.13)\n",
      "Requirement already satisfied: cffi>=1.0.1 in c:\\users\\marta\\appdata\\roaming\\python\\python312\\site-packages (from argon2-cffi-bindings->argon2-cffi>=21.1->jupyter-server<3,>=2.4.0->jupyterlab->-r ../requirements.txt (line 16)) (1.16.0)\n",
      "Requirement already satisfied: soupsieve>1.2 in c:\\users\\marta\\appdata\\roaming\\python\\python312\\site-packages (from beautifulsoup4->nbconvert>=6.4.4->jupyter-server<3,>=2.4.0->jupyterlab->-r ../requirements.txt (line 16)) (2.5)\n",
      "Requirement already satisfied: executing>=1.2.0 in c:\\users\\marta\\appdata\\roaming\\python\\python312\\site-packages (from stack-data->ipython>=7.23.1->ipykernel>=6.5.0->jupyterlab->-r ../requirements.txt (line 16)) (2.0.1)\n",
      "Requirement already satisfied: asttokens>=2.1.0 in c:\\users\\marta\\appdata\\roaming\\python\\python312\\site-packages (from stack-data->ipython>=7.23.1->ipykernel>=6.5.0->jupyterlab->-r ../requirements.txt (line 16)) (2.4.1)\n",
      "Requirement already satisfied: pure-eval in c:\\users\\marta\\appdata\\roaming\\python\\python312\\site-packages (from stack-data->ipython>=7.23.1->ipykernel>=6.5.0->jupyterlab->-r ../requirements.txt (line 16)) (0.2.2)\n",
      "Requirement already satisfied: pycparser in c:\\users\\marta\\appdata\\roaming\\python\\python312\\site-packages (from cffi>=1.0.1->argon2-cffi-bindings->argon2-cffi>=21.1->jupyter-server<3,>=2.4.0->jupyterlab->-r ../requirements.txt (line 16)) (2.22)\n",
      "Requirement already satisfied: arrow>=0.15.0 in c:\\users\\marta\\appdata\\roaming\\python\\python312\\site-packages (from isoduration->jsonschema[format-nongpl]>=4.18.0->jupyter-events>=0.9.0->jupyter-server<3,>=2.4.0->jupyterlab->-r ../requirements.txt (line 16)) (1.3.0)\n",
      "Requirement already satisfied: types-python-dateutil>=2.8.10 in c:\\users\\marta\\appdata\\roaming\\python\\python312\\site-packages (from arrow>=0.15.0->isoduration->jsonschema[format-nongpl]>=4.18.0->jupyter-events>=0.9.0->jupyter-server<3,>=2.4.0->jupyterlab->-r ../requirements.txt (line 16)) (2.9.0.20240316)\n"
     ]
    }
   ],
   "source": [
    "!pip install -r \"../requirements.txt\""
   ]
  },
  {
   "cell_type": "code",
   "execution_count": null,
   "metadata": {},
   "outputs": [],
   "source": [
    "import os\n",
    "from dotenv import load_dotenv\n",
    "\n",
    "load_dotenv()\n",
    "\n",
    "TOKEN=\"\"\n",
    "ENDPOINT=\"\"\n",
    "DEPLOYMENT=\"\""
   ]
  },
  {
   "cell_type": "code",
   "execution_count": null,
   "metadata": {},
   "outputs": [],
   "source": [
    "# !ollama pull llama3.1:8b"
   ]
  },
  {
   "cell_type": "markdown",
   "metadata": {},
   "source": [
    "# Obter documentos"
   ]
  },
  {
   "cell_type": "code",
   "execution_count": null,
   "metadata": {},
   "outputs": [],
   "source": [
    "import os\n",
    "\n",
    "documents_dir = \"documents/\"\n",
    "target_folders = [\"Condotril\", \"Duobiotic\", \"Neurofil\"]  # nomes dos produtos\n",
    "documents = {folder: \"\" for folder in target_folders}  # Inicializa um dicionário para cada produto\n",
    "\n",
    "for folder in target_folders:\n",
    "    folder_path = os.path.join(documents_dir, folder)\n",
    "    \n",
    "    if os.path.exists(folder_path) and os.path.isdir(folder_path):\n",
    "        for doc_name in os.listdir(folder_path):\n",
    "            if doc_name.endswith(\".txt\"):\n",
    "                print(f\"txt encontrado ({doc_name})!\")\n",
    "                file_path = os.path.join(folder_path, doc_name)\n",
    "                with open(file_path, \"r\", encoding=\"utf-8\") as doc:\n",
    "                    content = doc.read()\n",
    "                    documents[folder] += content + \"\\n\""
   ]
  },
  {
   "cell_type": "code",
   "execution_count": 4,
   "metadata": {},
   "outputs": [],
   "source": [
    "documents"
   ]
  },
  {
   "cell_type": "markdown",
   "metadata": {},
   "source": [
    "# Gerador de perguntas"
   ]
  },
  {
   "cell_type": "code",
   "execution_count": 5,
   "metadata": {},
   "outputs": [],
   "source": [
    "from langchain_ollama.llms import OllamaLLM\n",
    "\n",
    "model = OllamaLLM(model=\"llama3.1:8b\")\n",
    "\n",
    "# original questions\n",
    "questions = [\"Quais sao os ingredientes do Condotril?\",\n",
    "\"Quais sao os ingredientes do Duobiotic?\",\n",
    "\"Quais sao os ingredientes do Neurofil?\",\n",
    "\"Quais sao os efeitos do Condotril?\",\n",
    "\"Quais sao os efeitos do Duobiotic?\",\n",
    "\"Quais sao os efeitos do Neurofil?\",\n",
    "\"Qual e o processo de toma do Condotril?\",\n",
    "\"Qual e o processo de toma do Duobiotic?\",\n",
    "\"Qual e o processo de toma do Neurofil?\",\n",
    "\"Quais sao as condicoes de armazenamento do Condotril?\",\n",
    "\"Quais sao as condicoes de armazenamento do Duobiotic?\",\n",
    "\"Quais sao as condicoes de armazenamento do Neurofil?\",\n",
    "\"Em que casos nao se pode tomar Condotril?\",\n",
    "\"Em que casos nao se pode tomar Duobiotic?\",\n",
    "\"Em que casos nao se pode tomar Neurofil?\",\n",
    "\"Quantas doses tem a embalagem do Condotril?\",\n",
    "\"Quantas doses tem a embalagem do Duobiotic?\",\n",
    "\"Quantas doses tem a embalagem do Neurofil?\"]"
   ]
  },
  {
   "cell_type": "markdown",
   "metadata": {},
   "source": [
    "### Gerar variantes das perguntas originais"
   ]
  },
  {
   "cell_type": "code",
   "execution_count": 6,
   "metadata": {},
   "outputs": [],
   "source": [
    "def generate_variants(model, questions, n=4):\n",
    "    variants = {}\n",
    "    for question in questions:\n",
    "        system_prompt =  \"\"\"Your role is to rephrase this question in different ways, keeping the meaning: {question}.\n",
    "        Never give a question in english, only in portuguese.\"\"\".format(question=question)\n",
    "\n",
    "        response = model.generate(prompts=[system_prompt], num_return_sequences=n)\n",
    "        variants[question] = [variant for variant in response.generations]\n",
    "    return variants"
   ]
  },
  {
   "cell_type": "code",
   "execution_count": null,
   "metadata": {},
   "outputs": [],
   "source": [
    "question_variants = generate_variants(model, questions, n=4)"
   ]
  },
  {
   "cell_type": "code",
   "execution_count": null,
   "metadata": {},
   "outputs": [],
   "source": [
    "for original, variants in question_variants.items():\n",
    "    print(f\"Original: {original}\")\n",
    "    for i, variant in enumerate(variants, 1):\n",
    "        print(f\"Variant {i}: {variant}\")\n",
    "    print()"
   ]
  },
  {
   "cell_type": "markdown",
   "metadata": {},
   "source": [
    "### Normalizar as variantes (remover acentos e pontuação)"
   ]
  },
  {
   "cell_type": "code",
   "execution_count": 8,
   "metadata": {},
   "outputs": [],
   "source": [
    "import re\n",
    "import unicodedata\n",
    "\n",
    "def remove_acentos(text):\n",
    "    nfkd_form = unicodedata.normalize('NFKD', text)\n",
    "    return ''.join([c for c in nfkd_form if not unicodedata.combining(c)])\n",
    "\n",
    "def remove_pontuation(text):\n",
    "        return re.sub(r\"[^\\w\\s]\", \"\", text) # remove todos os caracteres exceto letras e numeros"
   ]
  },
  {
   "cell_type": "code",
   "execution_count": null,
   "metadata": {},
   "outputs": [],
   "source": [
    "var = {}\n",
    "var_normalized = {}\n",
    "\n",
    "for original, variants in question_variants.items():\n",
    "    QV = []\n",
    "    #return re.sub(r\"[^\\w\\s\\!\\?\\.\\']\", \"\", text)\n",
    "    for variant in variants:\n",
    "        responses = re.split(r'[\\n\\*|\\n,]', variant[0].text)\n",
    "        responses = [resp.strip()\n",
    "                     for resp in responses[1:] if resp.strip()]\n",
    "        QV.extend(responses)\n",
    "    var[original] = QV\n",
    "\n",
    "for original, variants in var.items():\n",
    "    QV = []\n",
    "  \n",
    "    original = remove_acentos(remove_pontuation(original))\n",
    "    \n",
    "    for variant in variants:\n",
    "        variant = remove_pontuation(variant) \n",
    "        variant = remove_acentos(variant)\n",
    "        \n",
    "        QV.append(variant)\n",
    "    \n",
    "    var_normalized[original] = QV\n",
    "\n",
    "    print(f\"Original: {original}\")\n",
    "    print(\"Variantes:\")\n",
    "    for variant in var_normalized[original]:\n",
    "        print(\"- \", variant)\n",
    "    print()"
   ]
  },
  {
   "cell_type": "markdown",
   "metadata": {},
   "source": [
    "### Guardar variantes em .csv"
   ]
  },
  {
   "cell_type": "code",
   "execution_count": null,
   "metadata": {},
   "outputs": [],
   "source": [
    "import pandas as pd\n",
    "\n",
    "variants_df = pd.DataFrame(list(var_normalized.items()), columns=[\"original\", \"variants\"])\n",
    "max_variants = max(variants_df[\"variants\"].apply(len))\n",
    "variants_expanded = pd.DataFrame(variants_df[\"variants\"].tolist(), columns=[f\"variant_{i+1}\" for i in range(max_variants)])\n",
    "variants_df = pd.concat([variants_df[\"original\"], variants_expanded], axis=1)"
   ]
  },
  {
   "cell_type": "code",
   "execution_count": null,
   "metadata": {},
   "outputs": [],
   "source": [
    "variants_df"
   ]
  },
  {
   "cell_type": "code",
   "execution_count": null,
   "metadata": {},
   "outputs": [],
   "source": [
    "variants_df.to_csv('variants.csv')"
   ]
  },
  {
   "cell_type": "markdown",
   "metadata": {},
   "source": [
    "### Tratamento de perguntas com erros ortográficos"
   ]
  },
  {
   "cell_type": "code",
   "execution_count": null,
   "metadata": {},
   "outputs": [],
   "source": [
    "from fuzzywuzzy import fuzz\n",
    "from spellchecker import SpellChecker\n",
    "import re\n",
    "import csv\n",
    "\n",
    "file_path = 'variants.csv'\n",
    "\n",
    "def load_variants_from_csv(file_path):\n",
    "    quest_variants = {}\n",
    "    with open(file_path, mode='r', encoding='utf-8') as file:\n",
    "        reader = csv.DictReader(file)\n",
    "        for row in reader:\n",
    "            original = row['original']  # A coluna principal com a pergunta original\n",
    "            # Filtrar todas as variantes não vazias\n",
    "            variants = [row[key] for key in row if key.startswith('variant_') and row[key].strip()]\n",
    "            quest_variants[original] = variants  # Mapear original -> lista de variantes\n",
    "    return quest_variants\n",
    "\n",
    "spell = SpellChecker(language='pt')\n",
    "\n",
    "def normalize_text(text):\n",
    "        return re.sub(r\"[^\\w\\s']\", \"\", text)\n",
    "\n",
    "\n",
    "def choose_best_question_variant(user_question, quest_variants):\n",
    "    best_score = 0\n",
    "    best_match = None\n",
    "\n",
    "    user_question = normalize_text(user_question)\n",
    "    user_question = remove_acentos(remove_pontuation(user_question))\n",
    "    user_question = user_question.lower()    \n",
    "    user_question = spell.correction(user_question)\n",
    "\n",
    "    # Comparação com perguntas originais e variantes\n",
    "    for original, variants in quest_variants.items():\n",
    "        # Verifica a similaridade com a pergunta original\n",
    "        score_with_original = fuzz.ratio(user_question, original.lower())\n",
    "        if score_with_original > best_score:\n",
    "            best_score = score_with_original\n",
    "            best_match = original\n",
    "            # Se a original for altamente semelhante, priorize-a\n",
    "            if best_score >= 98:\n",
    "                break\n",
    "\n",
    "        # Verifica a similaridade com cada variante\n",
    "        for variant in variants:\n",
    "            score_with_variant = fuzz.ratio(user_question, variant.lower())\n",
    "            if score_with_variant > best_score:\n",
    "                best_score = score_with_variant\n",
    "                best_match = original\n",
    "\n",
    "    return best_match, best_score"
   ]
  },
  {
   "cell_type": "code",
   "execution_count": null,
   "metadata": {},
   "outputs": [],
   "source": [
    "from langchain.tools import BaseTool\n",
    "from fuzzywuzzy import fuzz\n",
    "import csv\n",
    "\n",
    "class QuestionVariantSelector(BaseTool):\n",
    "    name: str = \"QuestionVariantSelector\"\n",
    "    description: str = \"Seleciona a melhor variante de uma pergunta baseada em variantes carregadas de um CSV.\"\n",
    "    file_path: str  # Caminho para o CSV com variantes\n",
    "\n",
    "    def __init__(self, file_path):\n",
    "        self.variants = self.load_variants_from_csv(file_path)\n",
    "\n",
    "    def load_variants_from_csv(self, file_path: str) -> dict:\n",
    "        \"\"\"Carrega as variantes de perguntas de um arquivo CSV.\"\"\"\n",
    "        quest_variants = {}\n",
    "        with open(file_path, mode='r', encoding='utf-8') as file:\n",
    "            reader = csv.DictReader(file)\n",
    "            for row in reader:\n",
    "                original = row['original']\n",
    "                variants = [row[key] for key in row if key.startswith('variant_') and row[key].strip()]\n",
    "                quest_variants[original] = variants\n",
    "        return quest_variants\n",
    "\n",
    "    def choose_best_variant(self, user_question: str) -> tuple[str, int]:\n",
    "        \"\"\"Encontra a melhor variante para a pergunta do usuário.\"\"\"\n",
    "        best_match = user_question\n",
    "        best_score = 0\n",
    "\n",
    "        for original, variants in self.variants.items():\n",
    "            for variant in variants:\n",
    "                score = fuzz.ratio(user_question.lower(), variant.lower())\n",
    "                if score > best_score:\n",
    "                    best_score = score\n",
    "                    best_match = original\n",
    "\n",
    "        return best_match, best_score\n",
    "\n",
    "    def _run(self, question: str) -> dict:\n",
    "        \"\"\"Processa a pergunta do usuário e retorna a melhor variante encontrada.\"\"\"\n",
    "        best_match, score = self.choose_best_variant(question)\n",
    "        if score < 65:  # Limite mínimo para considerar uma variante\n",
    "            best_match = question\n",
    "\n",
    "        return {\"question\": best_match, \"score\": score}"
   ]
  },
  {
   "cell_type": "markdown",
   "metadata": {},
   "source": [
    "Teste de uma pergunta com erros ortográficos e diferente das perguntas originais"
   ]
  },
  {
   "cell_type": "code",
   "execution_count": null,
   "metadata": {},
   "outputs": [],
   "source": [
    "teste_com_erros = \"quantós comprmídos d~evo tomâr de duobitiic?\"\n",
    "file_path = 'variants.csv'\n",
    "result, score = choose_best_question_variant(teste_com_erros, load_variants_from_csv(file_path))\n",
    "if score < 60:\n",
    "    result = teste_com_erros\n",
    "print(f\"User question: {teste_com_erros}\\nMelhor variante: {result}\\nscore: {score}\")"
   ]
  },
  {
   "cell_type": "markdown",
   "metadata": {},
   "source": [
    "# Criar chunks"
   ]
  },
  {
   "cell_type": "code",
   "execution_count": 11,
   "metadata": {},
   "outputs": [],
   "source": [
    "from langchain_text_splitters import CharacterTextSplitter\n",
    "\n",
    "text_splitter = CharacterTextSplitter(\n",
    "    separator=\"\\n\\n\",\n",
    "    chunk_size=1200, # o chunk_size tem que ser grande para termos o maximo de informaçao sobre um produto num vetor apenas\n",
    "    chunk_overlap=200,\n",
    "    length_function=len,\n",
    "    is_separator_regex=False,\n",
    ")\n",
    "\n",
    "docs = []\n",
    "for name, content in documents.items():\n",
    "    # Adiciona o nome do medicamento no início do conteúdo antes de dividir\n",
    "    full_content = f\"Medicamento: {name}\\n\\n{content}\"\n",
    "    chunks = text_splitter.create_documents([full_content])\n",
    "    \n",
    "    # Adiciona o nome do medicamento diretamente ao conteúdo de cada chunk\n",
    "    for chunk in chunks:\n",
    "        chunk.metadata = {\"medicamento\": name}\n",
    "        chunk.page_content = f\"{name}\\n\\n{chunk.page_content}\"\n",
    "    \n",
    "    docs.extend(chunks)\n",
    "\n",
    "for _, (product, content) in enumerate(documents.items()):\n",
    "    num_characters = len(content)\n",
    "    print(f\"Número de caracteres no documento '{product}': {num_characters}\")\n",
    "\n",
    "print(\"Número de documents: \", len(docs))"
   ]
  },
  {
   "cell_type": "code",
   "execution_count": null,
   "metadata": {},
   "outputs": [],
   "source": [
    "docs"
   ]
  },
  {
   "cell_type": "markdown",
   "metadata": {},
   "source": [
    "# Criar VectorStore/Retriever"
   ]
  },
  {
   "cell_type": "code",
   "execution_count": null,
   "metadata": {},
   "outputs": [],
   "source": [
    "# ollama needs to be installed\n",
    "# https://ollama.com/\n",
    "# https://github.com/ollama/ollama/tree/main/docs\n",
    "from langchain_ollama import OllamaEmbeddings\n",
    "from langchain_community.vectorstores import FAISS\n",
    "\n",
    "embedding_model = OllamaEmbeddings(model=\"llama3.1:8b\")\n",
    "\n",
    "vectorstore = FAISS.from_documents(docs, embedding=embedding_model)\n",
    "vectorstore.save_local(folder_path = '../vectorstore') # save the vectorstore locally"
   ]
  },
  {
   "cell_type": "code",
   "execution_count": null,
   "metadata": {},
   "outputs": [],
   "source": [
    "retriever = FAISS.load_local(\n",
    "    folder_path='../vectorstore', # para o notebook\n",
    "    # folder_path='vectorstore', # para o script\n",
    "    embeddings=embedding_model,\n",
    "    allow_dangerous_deserialization=True\n",
    "    ).as_retriever(search_kwargs={\"k\" : 5})"
   ]
  },
  {
   "cell_type": "markdown",
   "metadata": {},
   "source": [
    "# Desenvolvimento do Chatbot workflow (LangGraph)"
   ]
  },
  {
   "cell_type": "code",
   "execution_count": 15,
   "metadata": {},
   "outputs": [],
   "source": [
    "import re\n",
    "from langchain.tools import BaseTool\n",
    "\n",
    "class ArticleInformation(BaseTool):\n",
    "    name: str = \"ArticleInformation\"\n",
    "    description: str = \"This tool is used to answer questions about MyPharma food suplements. The input is the original user question\"\n",
    "        \n",
    "    def _run(self, question):\n",
    "        retrieved_documents = retriever.invoke(question)  # Obtém documentos\n",
    "        medicamentos = self._extract_medicamento(question)  # Extrai os nomes dos medicamentos (lista)\n",
    "        \n",
    "        # Filtra os documentos com base na metadata\n",
    "        filtered_documents = [\n",
    "            document for document in retrieved_documents\n",
    "            if document.metadata.get('medicamento', '').lower() in {med.lower() for med in medicamentos}\n",
    "        ]\n",
    "        \n",
    "        # Retorna os conteúdos dos documentos filtrados\n",
    "        return [document.page_content for document in filtered_documents]\n",
    "\n",
    "    \n",
    "    def _extract_medicamento(self, question: str) -> list[str]:\n",
    "        \"\"\"Tenta identificar os medicamentos mencionados na pergunta.\"\"\"\n",
    "        # Lista fixa de medicamentos disponíveis\n",
    "        medicamentos_disponiveis = {\"Condotril\", \"Neurofil\", \"Duobiotic\"}\n",
    "\n",
    "        # Procura por todos os medicamentos mencionados na pergunta\n",
    "        matches = re.findall(r'(Condotril|Neurofil|Duobiotic)', question, flags=re.IGNORECASE)\n",
    "        \n",
    "        # Filtra para capturar somente os medicamentos válidos, eliminando duplicatas\n",
    "        medicamentos_identificados = {match.capitalize() for match in matches if match.capitalize() in medicamentos_disponiveis}\n",
    "        \n",
    "        if medicamentos_identificados:\n",
    "            return list(medicamentos_identificados)\n",
    "        else:\n",
    "            raise ValueError(\"Não foi possível identificar nenhum medicamento na pergunta.\")"
   ]
  },
  {
   "cell_type": "markdown",
   "metadata": {},
   "source": [
    "Tools"
   ]
  },
  {
   "cell_type": "code",
   "execution_count": 16,
   "metadata": {},
   "outputs": [],
   "source": [
    "tools = [ArticleInformation()]\n",
    "tools_by_name = {tool.name: tool for tool in tools}"
   ]
  },
  {
   "cell_type": "markdown",
   "metadata": {},
   "source": [
    "AgentState"
   ]
  },
  {
   "cell_type": "code",
   "execution_count": null,
   "metadata": {},
   "outputs": [],
   "source": [
    "from typing import Annotated, Sequence, TypedDict\n",
    "from typing_extensions import TypedDict\n",
    "\n",
    "from langchain_core.messages import BaseMessage\n",
    "\n",
    "from langgraph.graph.message import add_messages\n",
    "from langgraph.graph import END\n",
    "\n",
    "class AgentState(TypedDict):\n",
    "    # The add_messages function defines how an update should be processed\n",
    "    # Default is to replace. add_messages says \"append\"\n",
    "    messages: Annotated[Sequence[BaseMessage], add_messages]"
   ]
  },
  {
   "cell_type": "markdown",
   "metadata": {},
   "source": [
    "System Prompt"
   ]
  },
  {
   "cell_type": "code",
   "execution_count": 18,
   "metadata": {},
   "outputs": [],
   "source": [
    "from langchain_core.messages import SystemMessage\n",
    "\n",
    "system_prompt =  SystemMessage(\"\"\"Your role is to act as a thorough research assistant, providing complete and detailed answers based on the given context. \n",
    "  \n",
    "Your final answer should be as complete as possible. Do not oversimplify or summarize unnecessaraly, considering the results of the tools you used.\n",
    "Do not oversimplify or summarize the answer.\n",
    "\n",
    "If you are unsure about what tool to use or how to correct an error, you should ask the user for help.\"\"\")"
   ]
  },
  {
   "cell_type": "markdown",
   "metadata": {},
   "source": [
    "Nodes"
   ]
  },
  {
   "cell_type": "code",
   "execution_count": null,
   "metadata": {},
   "outputs": [],
   "source": [
    "from typing import Union, Literal\n",
    "from langchain_openai import AzureChatOpenAI\n",
    "from langchain_core.messages import ToolMessage, HumanMessage\n",
    "import json\n",
    "\n",
    "# ollama needs to be installed\n",
    "# https://ollama.com/\n",
    "# https://github.com/ollama/ollama/tree/main/docs\n",
    "def call_llm(state: AgentState) -> dict[str, Union[list, bool]]:\n",
    "        \"\"\"\n",
    "        Calls the LLM model.\n",
    "        \n",
    "        Parameters\n",
    "        ----------\n",
    "        state : AgentState\n",
    "            The state of the agent.\n",
    "            \n",
    "        Returns\n",
    "        -------\n",
    "        dict[str, Union[list, bool]]\n",
    "            The updated state after calling the LLM model.\n",
    "        \"\"\"\n",
    "\n",
    "        llm = AzureChatOpenAI(\n",
    "            azure_deployment=DEPLOYMENT,\n",
    "            api_key=TOKEN,\n",
    "            azure_endpoint=ENDPOINT,\n",
    "            api_version=\"2023-06-01-preview\",\n",
    "            model=\"gpt-4o-mini\",\n",
    "            temperature=0,\n",
    "            max_tokens=None,\n",
    "            timeout=None,\n",
    "            max_retries=2,\n",
    "        )\n",
    "        # llm = ChatOllama( model=\"llama3.1:8b\", temperature=0) #instantiates the LLM model\n",
    "        llm = llm.bind_tools([ArticleInformation()]) #binds the tools to the LLM model\n",
    "        llm_response = llm.invoke(state['messages']) #calls the LLM model\n",
    "        \n",
    "        return {'messages': [llm_response]} #returns the updated state\n",
    "    \n",
    "def tool_node(state: AgentState) -> dict[str, Union[list, bool]]:\n",
    "    '''\n",
    "    Runs the tool requested in the last AI message (with the tool call).\n",
    "    \n",
    "    Parameters\n",
    "    ----------\n",
    "    state : AgentState\n",
    "        The state of the agent.\n",
    "        \n",
    "    Returns\n",
    "    -------\n",
    "    dict[str, Union[list, bool]]\n",
    "        The updated state after running the tool.\n",
    "    '''\n",
    "    if messages := state.get('messages', []):\n",
    "        message = messages[-1]\n",
    "    else:\n",
    "        raise ValueError('No messages found in input state.')\n",
    "    \n",
    "    outputs = []\n",
    "    \n",
    "    # tool_call example\n",
    "    # [{'name': 'ThesisInformation',\n",
    "    # 'args': {'query': 'What is the...'},\n",
    "    # 'id': 'call_UwQzgi1QD9uWfBP1r6CWO5ep',\n",
    "    # 'type': 'tool_call'}]\n",
    "    \n",
    "    for tool_call in message.tool_calls:\n",
    "        tool_result = tools_by_name[tool_call['name']].invoke(\n",
    "            tool_call['args']\n",
    "        )\n",
    "        \n",
    "        outputs.append(\n",
    "            ToolMessage(\n",
    "                content = json.dumps(tool_result),\n",
    "                name = tool_call['name'],\n",
    "                tool_call_id = tool_call['id']\n",
    "            )\n",
    "        )\n",
    "\n",
    "    return {'messages': outputs}\n",
    "\n",
    "\n",
    "def route_tools(state: AgentState) -> Literal['tools', '__end__']:\n",
    "        '''\n",
    "        To be used in the conditional_edge method when compiling the graph.\n",
    "        Routes to the tool node if the last message contains a tool call.\n",
    "        Otherwise, routes to the end.\n",
    "        \n",
    "        Parameters\n",
    "        ----------\n",
    "        state : ReactState\n",
    "            The state of the agent.\n",
    "            \n",
    "        Returns\n",
    "        -------\n",
    "        Literal['tools', '__end__']\n",
    "            The next node to route to.\n",
    "        '''        \n",
    "\n",
    "        if isinstance(state, list):\n",
    "            ai_message = state[-1]\n",
    "        elif messages := state.get('messages', []):\n",
    "            ai_message = messages[-1]\n",
    "        else:\n",
    "            raise ValueError(f'No messages found in input state to tool edge: {state}')\n",
    "\n",
    "        if hasattr(ai_message, 'tool_calls') and len(ai_message.tool_calls) > 0:\n",
    "            return 'tools'\n",
    "        return '__end__'"
   ]
  },
  {
   "cell_type": "markdown",
   "metadata": {},
   "source": [
    "Compile Graph"
   ]
  },
  {
   "cell_type": "code",
   "execution_count": null,
   "metadata": {},
   "outputs": [],
   "source": [
    "from langgraph.graph import StateGraph, START\n",
    "\n",
    "graph = StateGraph(AgentState)\n",
    "graph.add_node('llm', call_llm)\n",
    "graph.add_node('tools', tool_node)\n",
    "graph.add_edge('tools', 'llm')\n",
    "graph.add_edge(START, 'llm')\n",
    "graph.add_conditional_edges('llm', route_tools, {'tools': 'tools', '__end__': '__end__'})\n",
    "\n",
    "#compile graph\n",
    "graph = graph.compile()"
   ]
  },
  {
   "cell_type": "code",
   "execution_count": 74,
   "metadata": {},
   "outputs": [],
   "source": [
    "from IPython.display import Image, display\n",
    "\n",
    "display(Image(graph.get_graph().draw_mermaid_png()))\n"
   ]
  },
  {
   "cell_type": "markdown",
   "metadata": {},
   "source": [
    "# Obtenção de Respostas"
   ]
  },
  {
   "cell_type": "code",
   "execution_count": null,
   "metadata": {},
   "outputs": [],
   "source": [
    "quest_variants = load_variants_from_csv('variants.csv')\n",
    "\n",
    "# Ingredientes\n",
    "question1 = \"Quais são os ingredientes do Condotril?\"\n",
    "question2 = \"Quais são os ingredientes do Duobiotic?\"\n",
    "question3 = \"Quais são os ingredientes do Neurofil?\"\n",
    "\n",
    "# Benefícios\n",
    "question4 = \"Quais são os benefícios do Condotril?\"\n",
    "question5 = \"Quais são os benefícios do Duobiotic?\"\n",
    "question6 = \"Quais são os benefícios do Neurofil?\"\n",
    "\n",
    "# Efeitos\n",
    "question7 = \"Quais são os efeitos do Condotril?\"\n",
    "question8 = \"Quais são os efeitos do Duobiotic?\"\n",
    "question9 = \"Quais são os efeitos do Nueurofil?\"\n",
    "\n",
    "# Processo de toma\n",
    "question10 = \"Qual é o processo de toma do Condotril?\"\n",
    "question11 = \"Qual é o processo de toma do Duobiotic?\"\n",
    "question12 = \"Qual é o processo de toma do Neurofil?\"\n",
    "\n",
    "# Condições de armazenamento\n",
    "question13 = \"Quais são as condições de armazenamento do Condotril?\"\n",
    "question14 = \"Quais são as condições de armazenamento do Duobiotic?\"\n",
    "question15 = \"Quais são as condições de armazenamento do Neurofil?\"\n",
    "\n",
    "# Precaussões\n",
    "question16 = \"Em que casos não se pode tomar Condotril?\"\n",
    "question17 = \"Em que casos não se pode tomar Duobiotic?\"\n",
    "question18 = \"Em que casos não se pode tomar Neurofil?\""
   ]
  },
  {
   "cell_type": "markdown",
   "metadata": {},
   "source": [
    "## Gerar respostas"
   ]
  },
  {
   "cell_type": "code",
   "execution_count": null,
   "metadata": {},
   "outputs": [],
   "source": [
    "user_question = \"quais saõ os fundamnetso do condotirl?\"\n",
    "best_match, best_score = choose_best_question_variant(user_question, quest_variants)\n",
    "refined_question = best_match if best_score >= 65 else user_question\n",
    "response1 = graph.invoke({'messages': [system_prompt, HumanMessage(content=refined_question)]}, debug=True)"
   ]
  },
  {
   "cell_type": "code",
   "execution_count": null,
   "metadata": {},
   "outputs": [],
   "source": [
    "print(\"Pergunta: \", refined_question)\n",
    "print(\"Resposta: \", response1['messages'][-1].content)"
   ]
  },
  {
   "cell_type": "code",
   "execution_count": 24,
   "metadata": {},
   "outputs": [],
   "source": [
    "import pandas as pd\n",
    "\n",
    "def load_dataframe(csv_file):\n",
    "    try:\n",
    "        df = pd.read_csv(csv_file, encoding='utf-8')\n",
    "        return df\n",
    "    except FileNotFoundError:\n",
    "        print(f\"Erro: O arquivo '{csv_file}' não foi encontrado.\")\n",
    "        return pd.DataFrame(columns=['question', 'answer'])"
   ]
  },
  {
   "cell_type": "markdown",
   "metadata": {},
   "source": [
    "# Função de ligação com o frontend"
   ]
  },
  {
   "cell_type": "code",
   "execution_count": null,
   "metadata": {},
   "outputs": [],
   "source": [
    "\n",
    "def get_chatbot_response(question):\n",
    "\n",
    "    file_path = 'variants.csv'\n",
    "    best_match, best_score = choose_best_question_variant(question, load_variants_from_csv(file_path))\n",
    "    refined_question = best_match if best_score >= 70 else question\n",
    "    response = graph.invoke({'messages': [system_prompt, HumanMessage(content=refined_question)]}, debug=True)\n",
    "    response = response['messages'][-1].content\n",
    "\n",
    "    return response"
   ]
  },
  {
   "cell_type": "markdown",
   "metadata": {},
   "source": [
    "Teste"
   ]
  },
  {
   "cell_type": "code",
   "execution_count": null,
   "metadata": {},
   "outputs": [
    {
     "name": "stdout",
     "output_type": "stream",
     "text": [
      "\u001b[36;1m\u001b[1;3m[-1:checkpoint]\u001b[0m \u001b[1mState at the end of step -1:\n",
      "\u001b[0m{'messages': []}\n",
      "\u001b[36;1m\u001b[1;3m[0:tasks]\u001b[0m \u001b[1mStarting 1 task for step 0:\n",
      "\u001b[0m- \u001b[32;1m\u001b[1;3m__start__\u001b[0m -> {'messages': [SystemMessage(content='Your role is to act as a thorough research assistant, providing complete and detailed answers based on the given context. \\n  \\nYour final answer should be as complete as possible. Do not oversimplify or summarize unnecessaraly, considering the results of the tools you used.\\nDo not oversimplify or summarize the answer.\\n\\nIf you are unsure about what tool to use or how to correct an error, you should ask the user for help.', additional_kwargs={}, response_metadata={}, id='4c364584-aeec-46f9-b2e6-7ba78c33eddb'),\n",
      "              HumanMessage(content='Quais sao os ingredientes do Condotril', additional_kwargs={}, response_metadata={})]}\n",
      "\u001b[36;1m\u001b[1;3m[0:writes]\u001b[0m \u001b[1mFinished step 0 with writes to 1 channel:\n",
      "\u001b[0m- \u001b[33;1m\u001b[1;3mmessages\u001b[0m -> [SystemMessage(content='Your role is to act as a thorough research assistant, providing complete and detailed answers based on the given context. \\n  \\nYour final answer should be as complete as possible. Do not oversimplify or summarize unnecessaraly, considering the results of the tools you used.\\nDo not oversimplify or summarize the answer.\\n\\nIf you are unsure about what tool to use or how to correct an error, you should ask the user for help.', additional_kwargs={}, response_metadata={}, id='4c364584-aeec-46f9-b2e6-7ba78c33eddb'),\n",
      " HumanMessage(content='Quais sao os ingredientes do Condotril', additional_kwargs={}, response_metadata={})]\n",
      "\u001b[36;1m\u001b[1;3m[0:checkpoint]\u001b[0m \u001b[1mState at the end of step 0:\n",
      "\u001b[0m{'messages': [SystemMessage(content='Your role is to act as a thorough research assistant, providing complete and detailed answers based on the given context. \\n  \\nYour final answer should be as complete as possible. Do not oversimplify or summarize unnecessaraly, considering the results of the tools you used.\\nDo not oversimplify or summarize the answer.\\n\\nIf you are unsure about what tool to use or how to correct an error, you should ask the user for help.', additional_kwargs={}, response_metadata={}, id='4c364584-aeec-46f9-b2e6-7ba78c33eddb'),\n",
      "              HumanMessage(content='Quais sao os ingredientes do Condotril', additional_kwargs={}, response_metadata={}, id='bd65c640-c20f-4850-bd1e-bc0c75c565cb')]}\n",
      "\u001b[36;1m\u001b[1;3m[1:tasks]\u001b[0m \u001b[1mStarting 1 task for step 1:\n",
      "\u001b[0m- \u001b[32;1m\u001b[1;3mllm\u001b[0m -> {'messages': [SystemMessage(content='Your role is to act as a thorough research assistant, providing complete and detailed answers based on the given context. \\n  \\nYour final answer should be as complete as possible. Do not oversimplify or summarize unnecessaraly, considering the results of the tools you used.\\nDo not oversimplify or summarize the answer.\\n\\nIf you are unsure about what tool to use or how to correct an error, you should ask the user for help.', additional_kwargs={}, response_metadata={}, id='4c364584-aeec-46f9-b2e6-7ba78c33eddb'),\n",
      "              HumanMessage(content='Quais sao os ingredientes do Condotril', additional_kwargs={}, response_metadata={}, id='bd65c640-c20f-4850-bd1e-bc0c75c565cb')]}\n",
      "\u001b[36;1m\u001b[1;3m[1:writes]\u001b[0m \u001b[1mFinished step 1 with writes to 1 channel:\n",
      "\u001b[0m- \u001b[33;1m\u001b[1;3mmessages\u001b[0m -> [AIMessage(content='', additional_kwargs={'tool_calls': [{'id': 'call_d29rx5ZbEQgD6bnRSRRZ4cNI', 'function': {'arguments': '{\"question\":\"Quais são os ingredientes do Condotril?\"}', 'name': 'ArticleInformation'}, 'type': 'function'}], 'refusal': None}, response_metadata={'token_usage': {'completion_tokens': 23, 'prompt_tokens': 157, 'total_tokens': 180, 'completion_tokens_details': None, 'prompt_tokens_details': None}, 'model_name': 'gpt-4o-mini', 'system_fingerprint': 'fp_04751d0b65', 'prompt_filter_results': [{'prompt_index': 0, 'content_filter_results': {'hate': {'filtered': False, 'severity': 'safe'}, 'jailbreak': {'filtered': False, 'detected': False}, 'self_harm': {'filtered': False, 'severity': 'safe'}, 'sexual': {'filtered': False, 'severity': 'safe'}, 'violence': {'filtered': False, 'severity': 'safe'}}}], 'finish_reason': 'tool_calls', 'logprobs': None, 'content_filter_results': {}}, id='run-beea688d-d265-4dd3-b22b-1f035fe71d0a-0', tool_calls=[{'name': 'ArticleInformation', 'args': {'question': 'Quais são os ingredientes do Condotril?'}, 'id': 'call_d29rx5ZbEQgD6bnRSRRZ4cNI', 'type': 'tool_call'}], usage_metadata={'input_tokens': 157, 'output_tokens': 23, 'total_tokens': 180, 'input_token_details': {}, 'output_token_details': {}})]\n",
      "\u001b[36;1m\u001b[1;3m[1:checkpoint]\u001b[0m \u001b[1mState at the end of step 1:\n",
      "\u001b[0m{'messages': [SystemMessage(content='Your role is to act as a thorough research assistant, providing complete and detailed answers based on the given context. \\n  \\nYour final answer should be as complete as possible. Do not oversimplify or summarize unnecessaraly, considering the results of the tools you used.\\nDo not oversimplify or summarize the answer.\\n\\nIf you are unsure about what tool to use or how to correct an error, you should ask the user for help.', additional_kwargs={}, response_metadata={}, id='4c364584-aeec-46f9-b2e6-7ba78c33eddb'),\n",
      "              HumanMessage(content='Quais sao os ingredientes do Condotril', additional_kwargs={}, response_metadata={}, id='bd65c640-c20f-4850-bd1e-bc0c75c565cb'),\n",
      "              AIMessage(content='', additional_kwargs={'tool_calls': [{'id': 'call_d29rx5ZbEQgD6bnRSRRZ4cNI', 'function': {'arguments': '{\"question\":\"Quais são os ingredientes do Condotril?\"}', 'name': 'ArticleInformation'}, 'type': 'function'}], 'refusal': None}, response_metadata={'token_usage': {'completion_tokens': 23, 'prompt_tokens': 157, 'total_tokens': 180, 'completion_tokens_details': None, 'prompt_tokens_details': None}, 'model_name': 'gpt-4o-mini', 'system_fingerprint': 'fp_04751d0b65', 'prompt_filter_results': [{'prompt_index': 0, 'content_filter_results': {'hate': {'filtered': False, 'severity': 'safe'}, 'jailbreak': {'filtered': False, 'detected': False}, 'self_harm': {'filtered': False, 'severity': 'safe'}, 'sexual': {'filtered': False, 'severity': 'safe'}, 'violence': {'filtered': False, 'severity': 'safe'}}}], 'finish_reason': 'tool_calls', 'logprobs': None, 'content_filter_results': {}}, id='run-beea688d-d265-4dd3-b22b-1f035fe71d0a-0', tool_calls=[{'name': 'ArticleInformation', 'args': {'question': 'Quais são os ingredientes do Condotril?'}, 'id': 'call_d29rx5ZbEQgD6bnRSRRZ4cNI', 'type': 'tool_call'}], usage_metadata={'input_tokens': 157, 'output_tokens': 23, 'total_tokens': 180, 'input_token_details': {}, 'output_token_details': {}})]}\n",
      "\u001b[36;1m\u001b[1;3m[2:tasks]\u001b[0m \u001b[1mStarting 1 task for step 2:\n",
      "\u001b[0m- \u001b[32;1m\u001b[1;3mtools\u001b[0m -> {'messages': [SystemMessage(content='Your role is to act as a thorough research assistant, providing complete and detailed answers based on the given context. \\n  \\nYour final answer should be as complete as possible. Do not oversimplify or summarize unnecessaraly, considering the results of the tools you used.\\nDo not oversimplify or summarize the answer.\\n\\nIf you are unsure about what tool to use or how to correct an error, you should ask the user for help.', additional_kwargs={}, response_metadata={}, id='4c364584-aeec-46f9-b2e6-7ba78c33eddb'),\n",
      "              HumanMessage(content='Quais sao os ingredientes do Condotril', additional_kwargs={}, response_metadata={}, id='bd65c640-c20f-4850-bd1e-bc0c75c565cb'),\n",
      "              AIMessage(content='', additional_kwargs={'tool_calls': [{'id': 'call_d29rx5ZbEQgD6bnRSRRZ4cNI', 'function': {'arguments': '{\"question\":\"Quais são os ingredientes do Condotril?\"}', 'name': 'ArticleInformation'}, 'type': 'function'}], 'refusal': None}, response_metadata={'token_usage': {'completion_tokens': 23, 'prompt_tokens': 157, 'total_tokens': 180, 'completion_tokens_details': None, 'prompt_tokens_details': None}, 'model_name': 'gpt-4o-mini', 'system_fingerprint': 'fp_04751d0b65', 'prompt_filter_results': [{'prompt_index': 0, 'content_filter_results': {'hate': {'filtered': False, 'severity': 'safe'}, 'jailbreak': {'filtered': False, 'detected': False}, 'self_harm': {'filtered': False, 'severity': 'safe'}, 'sexual': {'filtered': False, 'severity': 'safe'}, 'violence': {'filtered': False, 'severity': 'safe'}}}], 'finish_reason': 'tool_calls', 'logprobs': None, 'content_filter_results': {}}, id='run-beea688d-d265-4dd3-b22b-1f035fe71d0a-0', tool_calls=[{'name': 'ArticleInformation', 'args': {'question': 'Quais são os ingredientes do Condotril?'}, 'id': 'call_d29rx5ZbEQgD6bnRSRRZ4cNI', 'type': 'tool_call'}], usage_metadata={'input_tokens': 157, 'output_tokens': 23, 'total_tokens': 180, 'input_token_details': {}, 'output_token_details': {}})]}\n",
      "\u001b[36;1m\u001b[1;3m[2:writes]\u001b[0m \u001b[1mFinished step 2 with writes to 1 channel:\n",
      "\u001b[0m- \u001b[33;1m\u001b[1;3mmessages\u001b[0m -> [ToolMessage(content='[\"Condotril\\\\n\\\\nMedicamento: Condotril\\\\n\\\\n=D MYPharm\\\\u00e3\\\\n\\\\nCONDOTRIL\\\\n\\\\nO QUE \\\\u00c9 CONDOTRIL?\\\\n\\\\nCONDOTRIL \\\\u00e9 um suplemento alimentar que cont\\\\u00e9m Sulfato de Glucosamina, Sulfato de Condroitina,\\\\nMSM e outros compostos como a Vitamina C e Mangan\\\\u00eas. A Vitamina C contribui para a normal for-\\\\nma\\\\u00e7\\\\u00e3o de colag\\\\u00e9nio para o funcionamento normal dos ossos e das cartilagens. O Mangan\\\\u00eas con-\\\\ntribui para a manuten\\\\u00e7\\\\u00e3o de ossos normais e a normal forma\\\\u00e7\\\\u00e3o de tecidos conjuntivos.\\\\n\\\\nOs suplementos alimentares s\\\\u00e3o g\\\\u00e9neros aliment\\\\u00edcios que se destinam a complementar e/ou a\\\\nsuplementar o regime alimentar normal n\\\\u00e3o devendo ser utilizados como substitutos de um regime\\\\nalimentar variado. Constituem fontes concentradas de determinadas subst\\\\u00e2ncias nutrientes ou\\\\noutras, com efeito nutricional ou fisiol\\\\u00f3gico. \\\\u00c9 importante um regime alimentar equilibrado e um\\\\nmodo de vida saud\\\\u00e1vel.\", \"Condotril\\\\n\\\\nConsumir de prefer\\\\u00eancia antes do fim de...: Ver embalagem. -\\\\nLote: Ver embalagem.\\\\n\\\\nRepresentado e distribu\\\\u00eddo por:\\\\nMYPHARMA S.A.\\\\n\\\\nTv. Ant\\\\u00f3nio Ferreira Rito, 43\\\\n4705-112 Braga - PORTUGAL\\\\n\\\\ngeralomypharma,.pt Good Mm..nSI..MZ &\\\\n\\\\nwww.mypharma.pt\", \"Condotril\\\\n\\\\n*VRN: Valor de Refer\\\\u00eancia do Nutriente segundo o Regulamento (UE) n\\\\u00ba 1169/2011\\\\n**n.d.: n\\\\u00e3o definido\\\\n\\\\nATEN\\\\u00c7\\\\u00c3O: N\\\\u00e3o exceder a toma di\\\\u00e1ria recomendada salvo indica\\\\u00e7\\\\u00e3o de um profissional de sa\\\\u00fade.\\\\nO produto n\\\\u00e3o deve ser utilizado em caso de hipersensibilidade, alergia e quando estejam descritas\\\\nintera\\\\u00e7\\\\u00f5es de outro produto com qualquer um dos constituintes da formula\\\\u00e7\\\\u00e3o.\\\\n\\\\nN\\\\u00e3o recomendado em crian\\\\u00e7as e adolescentes.\\\\n\\\\nO produto n\\\\u00e3o deve ser utilizado em caso de alergia ao marisco.\\\\n\\\\nSe estiver a tomar anticoagulantes, consultar o seu m\\\\u00e9dico ou farmac\\\\u00eautico antes da toma do\\\\nproduto.\\\\n\\\\nDevido \\\\u00e0 falta de estudos que comprovem a seguran\\\\u00e7a do seu uso durante a gravidez e aleitamento,\\\\neste suplemento n\\\\u00e3o deve ser utilizado nestas situa\\\\u00e7\\\\u00f5es, salvo indica\\\\u00e7\\\\u00e3o m\\\\u00e9dica.\\\\n\\\\nCondi\\\\u00e7\\\\u00f5es de armazenamento:\\\\nConservar em local seco na embalagem original e a temperatura inferior a 25\\\\u00baC.\\\\nPreservar da luz e do calor. Manter fora do alcance e da vis\\\\u00e3o das crian\\\\u00e7as.\\\\n\\\\nDose di\\\\u00e1ria recomendada: 1 saqueta por dia.\\\\nModo de tomar: Dissolva o conte\\\\u00fado da saqueta em \\\\u00e1gua ou noutro l\\\\u00edquido.\\\\nN\\\\u00famero de doses por embalagem: 30.\\\\n\\\\nConsumir de prefer\\\\u00eancia antes do fim de...: Ver embalagem. -\\\\nLote: Ver embalagem.\"]', name='ArticleInformation', tool_call_id='call_d29rx5ZbEQgD6bnRSRRZ4cNI')]\n",
      "\u001b[36;1m\u001b[1;3m[2:checkpoint]\u001b[0m \u001b[1mState at the end of step 2:\n",
      "\u001b[0m{'messages': [SystemMessage(content='Your role is to act as a thorough research assistant, providing complete and detailed answers based on the given context. \\n  \\nYour final answer should be as complete as possible. Do not oversimplify or summarize unnecessaraly, considering the results of the tools you used.\\nDo not oversimplify or summarize the answer.\\n\\nIf you are unsure about what tool to use or how to correct an error, you should ask the user for help.', additional_kwargs={}, response_metadata={}, id='4c364584-aeec-46f9-b2e6-7ba78c33eddb'),\n",
      "              HumanMessage(content='Quais sao os ingredientes do Condotril', additional_kwargs={}, response_metadata={}, id='bd65c640-c20f-4850-bd1e-bc0c75c565cb'),\n",
      "              AIMessage(content='', additional_kwargs={'tool_calls': [{'id': 'call_d29rx5ZbEQgD6bnRSRRZ4cNI', 'function': {'arguments': '{\"question\":\"Quais são os ingredientes do Condotril?\"}', 'name': 'ArticleInformation'}, 'type': 'function'}], 'refusal': None}, response_metadata={'token_usage': {'completion_tokens': 23, 'prompt_tokens': 157, 'total_tokens': 180, 'completion_tokens_details': None, 'prompt_tokens_details': None}, 'model_name': 'gpt-4o-mini', 'system_fingerprint': 'fp_04751d0b65', 'prompt_filter_results': [{'prompt_index': 0, 'content_filter_results': {'hate': {'filtered': False, 'severity': 'safe'}, 'jailbreak': {'filtered': False, 'detected': False}, 'self_harm': {'filtered': False, 'severity': 'safe'}, 'sexual': {'filtered': False, 'severity': 'safe'}, 'violence': {'filtered': False, 'severity': 'safe'}}}], 'finish_reason': 'tool_calls', 'logprobs': None, 'content_filter_results': {}}, id='run-beea688d-d265-4dd3-b22b-1f035fe71d0a-0', tool_calls=[{'name': 'ArticleInformation', 'args': {'question': 'Quais são os ingredientes do Condotril?'}, 'id': 'call_d29rx5ZbEQgD6bnRSRRZ4cNI', 'type': 'tool_call'}], usage_metadata={'input_tokens': 157, 'output_tokens': 23, 'total_tokens': 180, 'input_token_details': {}, 'output_token_details': {}}),\n",
      "              ToolMessage(content='[\"Condotril\\\\n\\\\nMedicamento: Condotril\\\\n\\\\n=D MYPharm\\\\u00e3\\\\n\\\\nCONDOTRIL\\\\n\\\\nO QUE \\\\u00c9 CONDOTRIL?\\\\n\\\\nCONDOTRIL \\\\u00e9 um suplemento alimentar que cont\\\\u00e9m Sulfato de Glucosamina, Sulfato de Condroitina,\\\\nMSM e outros compostos como a Vitamina C e Mangan\\\\u00eas. A Vitamina C contribui para a normal for-\\\\nma\\\\u00e7\\\\u00e3o de colag\\\\u00e9nio para o funcionamento normal dos ossos e das cartilagens. O Mangan\\\\u00eas con-\\\\ntribui para a manuten\\\\u00e7\\\\u00e3o de ossos normais e a normal forma\\\\u00e7\\\\u00e3o de tecidos conjuntivos.\\\\n\\\\nOs suplementos alimentares s\\\\u00e3o g\\\\u00e9neros aliment\\\\u00edcios que se destinam a complementar e/ou a\\\\nsuplementar o regime alimentar normal n\\\\u00e3o devendo ser utilizados como substitutos de um regime\\\\nalimentar variado. Constituem fontes concentradas de determinadas subst\\\\u00e2ncias nutrientes ou\\\\noutras, com efeito nutricional ou fisiol\\\\u00f3gico. \\\\u00c9 importante um regime alimentar equilibrado e um\\\\nmodo de vida saud\\\\u00e1vel.\", \"Condotril\\\\n\\\\nConsumir de prefer\\\\u00eancia antes do fim de...: Ver embalagem. -\\\\nLote: Ver embalagem.\\\\n\\\\nRepresentado e distribu\\\\u00eddo por:\\\\nMYPHARMA S.A.\\\\n\\\\nTv. Ant\\\\u00f3nio Ferreira Rito, 43\\\\n4705-112 Braga - PORTUGAL\\\\n\\\\ngeralomypharma,.pt Good Mm..nSI..MZ &\\\\n\\\\nwww.mypharma.pt\", \"Condotril\\\\n\\\\n*VRN: Valor de Refer\\\\u00eancia do Nutriente segundo o Regulamento (UE) n\\\\u00ba 1169/2011\\\\n**n.d.: n\\\\u00e3o definido\\\\n\\\\nATEN\\\\u00c7\\\\u00c3O: N\\\\u00e3o exceder a toma di\\\\u00e1ria recomendada salvo indica\\\\u00e7\\\\u00e3o de um profissional de sa\\\\u00fade.\\\\nO produto n\\\\u00e3o deve ser utilizado em caso de hipersensibilidade, alergia e quando estejam descritas\\\\nintera\\\\u00e7\\\\u00f5es de outro produto com qualquer um dos constituintes da formula\\\\u00e7\\\\u00e3o.\\\\n\\\\nN\\\\u00e3o recomendado em crian\\\\u00e7as e adolescentes.\\\\n\\\\nO produto n\\\\u00e3o deve ser utilizado em caso de alergia ao marisco.\\\\n\\\\nSe estiver a tomar anticoagulantes, consultar o seu m\\\\u00e9dico ou farmac\\\\u00eautico antes da toma do\\\\nproduto.\\\\n\\\\nDevido \\\\u00e0 falta de estudos que comprovem a seguran\\\\u00e7a do seu uso durante a gravidez e aleitamento,\\\\neste suplemento n\\\\u00e3o deve ser utilizado nestas situa\\\\u00e7\\\\u00f5es, salvo indica\\\\u00e7\\\\u00e3o m\\\\u00e9dica.\\\\n\\\\nCondi\\\\u00e7\\\\u00f5es de armazenamento:\\\\nConservar em local seco na embalagem original e a temperatura inferior a 25\\\\u00baC.\\\\nPreservar da luz e do calor. Manter fora do alcance e da vis\\\\u00e3o das crian\\\\u00e7as.\\\\n\\\\nDose di\\\\u00e1ria recomendada: 1 saqueta por dia.\\\\nModo de tomar: Dissolva o conte\\\\u00fado da saqueta em \\\\u00e1gua ou noutro l\\\\u00edquido.\\\\nN\\\\u00famero de doses por embalagem: 30.\\\\n\\\\nConsumir de prefer\\\\u00eancia antes do fim de...: Ver embalagem. -\\\\nLote: Ver embalagem.\"]', name='ArticleInformation', id='b6f7538b-d216-4f29-8140-c425399db1f0', tool_call_id='call_d29rx5ZbEQgD6bnRSRRZ4cNI')]}\n",
      "\u001b[36;1m\u001b[1;3m[3:tasks]\u001b[0m \u001b[1mStarting 1 task for step 3:\n",
      "\u001b[0m- \u001b[32;1m\u001b[1;3mllm\u001b[0m -> {'messages': [SystemMessage(content='Your role is to act as a thorough research assistant, providing complete and detailed answers based on the given context. \\n  \\nYour final answer should be as complete as possible. Do not oversimplify or summarize unnecessaraly, considering the results of the tools you used.\\nDo not oversimplify or summarize the answer.\\n\\nIf you are unsure about what tool to use or how to correct an error, you should ask the user for help.', additional_kwargs={}, response_metadata={}, id='4c364584-aeec-46f9-b2e6-7ba78c33eddb'),\n",
      "              HumanMessage(content='Quais sao os ingredientes do Condotril', additional_kwargs={}, response_metadata={}, id='bd65c640-c20f-4850-bd1e-bc0c75c565cb'),\n",
      "              AIMessage(content='', additional_kwargs={'tool_calls': [{'id': 'call_d29rx5ZbEQgD6bnRSRRZ4cNI', 'function': {'arguments': '{\"question\":\"Quais são os ingredientes do Condotril?\"}', 'name': 'ArticleInformation'}, 'type': 'function'}], 'refusal': None}, response_metadata={'token_usage': {'completion_tokens': 23, 'prompt_tokens': 157, 'total_tokens': 180, 'completion_tokens_details': None, 'prompt_tokens_details': None}, 'model_name': 'gpt-4o-mini', 'system_fingerprint': 'fp_04751d0b65', 'prompt_filter_results': [{'prompt_index': 0, 'content_filter_results': {'hate': {'filtered': False, 'severity': 'safe'}, 'jailbreak': {'filtered': False, 'detected': False}, 'self_harm': {'filtered': False, 'severity': 'safe'}, 'sexual': {'filtered': False, 'severity': 'safe'}, 'violence': {'filtered': False, 'severity': 'safe'}}}], 'finish_reason': 'tool_calls', 'logprobs': None, 'content_filter_results': {}}, id='run-beea688d-d265-4dd3-b22b-1f035fe71d0a-0', tool_calls=[{'name': 'ArticleInformation', 'args': {'question': 'Quais são os ingredientes do Condotril?'}, 'id': 'call_d29rx5ZbEQgD6bnRSRRZ4cNI', 'type': 'tool_call'}], usage_metadata={'input_tokens': 157, 'output_tokens': 23, 'total_tokens': 180, 'input_token_details': {}, 'output_token_details': {}}),\n",
      "              ToolMessage(content='[\"Condotril\\\\n\\\\nMedicamento: Condotril\\\\n\\\\n=D MYPharm\\\\u00e3\\\\n\\\\nCONDOTRIL\\\\n\\\\nO QUE \\\\u00c9 CONDOTRIL?\\\\n\\\\nCONDOTRIL \\\\u00e9 um suplemento alimentar que cont\\\\u00e9m Sulfato de Glucosamina, Sulfato de Condroitina,\\\\nMSM e outros compostos como a Vitamina C e Mangan\\\\u00eas. A Vitamina C contribui para a normal for-\\\\nma\\\\u00e7\\\\u00e3o de colag\\\\u00e9nio para o funcionamento normal dos ossos e das cartilagens. O Mangan\\\\u00eas con-\\\\ntribui para a manuten\\\\u00e7\\\\u00e3o de ossos normais e a normal forma\\\\u00e7\\\\u00e3o de tecidos conjuntivos.\\\\n\\\\nOs suplementos alimentares s\\\\u00e3o g\\\\u00e9neros aliment\\\\u00edcios que se destinam a complementar e/ou a\\\\nsuplementar o regime alimentar normal n\\\\u00e3o devendo ser utilizados como substitutos de um regime\\\\nalimentar variado. Constituem fontes concentradas de determinadas subst\\\\u00e2ncias nutrientes ou\\\\noutras, com efeito nutricional ou fisiol\\\\u00f3gico. \\\\u00c9 importante um regime alimentar equilibrado e um\\\\nmodo de vida saud\\\\u00e1vel.\", \"Condotril\\\\n\\\\nConsumir de prefer\\\\u00eancia antes do fim de...: Ver embalagem. -\\\\nLote: Ver embalagem.\\\\n\\\\nRepresentado e distribu\\\\u00eddo por:\\\\nMYPHARMA S.A.\\\\n\\\\nTv. Ant\\\\u00f3nio Ferreira Rito, 43\\\\n4705-112 Braga - PORTUGAL\\\\n\\\\ngeralomypharma,.pt Good Mm..nSI..MZ &\\\\n\\\\nwww.mypharma.pt\", \"Condotril\\\\n\\\\n*VRN: Valor de Refer\\\\u00eancia do Nutriente segundo o Regulamento (UE) n\\\\u00ba 1169/2011\\\\n**n.d.: n\\\\u00e3o definido\\\\n\\\\nATEN\\\\u00c7\\\\u00c3O: N\\\\u00e3o exceder a toma di\\\\u00e1ria recomendada salvo indica\\\\u00e7\\\\u00e3o de um profissional de sa\\\\u00fade.\\\\nO produto n\\\\u00e3o deve ser utilizado em caso de hipersensibilidade, alergia e quando estejam descritas\\\\nintera\\\\u00e7\\\\u00f5es de outro produto com qualquer um dos constituintes da formula\\\\u00e7\\\\u00e3o.\\\\n\\\\nN\\\\u00e3o recomendado em crian\\\\u00e7as e adolescentes.\\\\n\\\\nO produto n\\\\u00e3o deve ser utilizado em caso de alergia ao marisco.\\\\n\\\\nSe estiver a tomar anticoagulantes, consultar o seu m\\\\u00e9dico ou farmac\\\\u00eautico antes da toma do\\\\nproduto.\\\\n\\\\nDevido \\\\u00e0 falta de estudos que comprovem a seguran\\\\u00e7a do seu uso durante a gravidez e aleitamento,\\\\neste suplemento n\\\\u00e3o deve ser utilizado nestas situa\\\\u00e7\\\\u00f5es, salvo indica\\\\u00e7\\\\u00e3o m\\\\u00e9dica.\\\\n\\\\nCondi\\\\u00e7\\\\u00f5es de armazenamento:\\\\nConservar em local seco na embalagem original e a temperatura inferior a 25\\\\u00baC.\\\\nPreservar da luz e do calor. Manter fora do alcance e da vis\\\\u00e3o das crian\\\\u00e7as.\\\\n\\\\nDose di\\\\u00e1ria recomendada: 1 saqueta por dia.\\\\nModo de tomar: Dissolva o conte\\\\u00fado da saqueta em \\\\u00e1gua ou noutro l\\\\u00edquido.\\\\nN\\\\u00famero de doses por embalagem: 30.\\\\n\\\\nConsumir de prefer\\\\u00eancia antes do fim de...: Ver embalagem. -\\\\nLote: Ver embalagem.\"]', name='ArticleInformation', id='b6f7538b-d216-4f29-8140-c425399db1f0', tool_call_id='call_d29rx5ZbEQgD6bnRSRRZ4cNI')]}\n",
      "\u001b[36;1m\u001b[1;3m[3:writes]\u001b[0m \u001b[1mFinished step 3 with writes to 1 channel:\n",
      "\u001b[0m- \u001b[33;1m\u001b[1;3mmessages\u001b[0m -> [AIMessage(content='O Condotril é um suplemento alimentar que contém os seguintes ingredientes principais:\\n\\n1. **Sulfato de Glucosamina** - Um composto que ajuda na manutenção da saúde das articulações.\\n2. **Sulfato de Condroitina** - Outro componente que contribui para a saúde das articulações e cartilagens.\\n3. **MSM (Metilsulfonilmetano)** - Um composto orgânico que pode ajudar a reduzir a dor e a inflamação nas articulações.\\n4. **Vitamina C** - Contribui para a normal formação de colágeno, essencial para o funcionamento normal dos ossos e cartilagens.\\n5. **Manganês** - Ajuda na manutenção de ossos normais e na formação de tecidos conjuntivos.\\n\\nAlém desses ingredientes, o Condotril é projetado para complementar a dieta normal e não deve ser utilizado como substituto de uma alimentação variada. É importante seguir uma dieta equilibrada e um estilo de vida saudável ao utilizar suplementos alimentares. \\n\\nO produto é distribuído pela MYPHARMA S.A. e deve ser armazenado em local seco, em temperatura inferior a 25°C, protegido da luz e do calor, e fora do alcance de crianças. A dose diária recomendada é de 1 saqueta por dia, que deve ser dissolvida em água ou outro líquido.', additional_kwargs={'refusal': None}, response_metadata={'token_usage': {'completion_tokens': 280, 'prompt_tokens': 1081, 'total_tokens': 1361, 'completion_tokens_details': None, 'prompt_tokens_details': None}, 'model_name': 'gpt-4o-mini', 'system_fingerprint': 'fp_04751d0b65', 'prompt_filter_results': [{'prompt_index': 0, 'content_filter_results': {'hate': {'filtered': False, 'severity': 'safe'}, 'jailbreak': {'filtered': False, 'detected': False}, 'self_harm': {'filtered': False, 'severity': 'safe'}, 'sexual': {'filtered': False, 'severity': 'safe'}, 'violence': {'filtered': False, 'severity': 'safe'}}}], 'finish_reason': 'stop', 'logprobs': None, 'content_filter_results': {'hate': {'filtered': False, 'severity': 'safe'}, 'protected_material_code': {'filtered': False, 'detected': False}, 'protected_material_text': {'filtered': False, 'detected': False}, 'self_harm': {'filtered': False, 'severity': 'safe'}, 'sexual': {'filtered': False, 'severity': 'safe'}, 'violence': {'filtered': False, 'severity': 'safe'}}}, id='run-0d17f044-1ff0-4265-91ed-e4417bc37fbd-0', usage_metadata={'input_tokens': 1081, 'output_tokens': 280, 'total_tokens': 1361, 'input_token_details': {}, 'output_token_details': {}})]\n",
      "\u001b[36;1m\u001b[1;3m[3:checkpoint]\u001b[0m \u001b[1mState at the end of step 3:\n",
      "\u001b[0m{'messages': [SystemMessage(content='Your role is to act as a thorough research assistant, providing complete and detailed answers based on the given context. \\n  \\nYour final answer should be as complete as possible. Do not oversimplify or summarize unnecessaraly, considering the results of the tools you used.\\nDo not oversimplify or summarize the answer.\\n\\nIf you are unsure about what tool to use or how to correct an error, you should ask the user for help.', additional_kwargs={}, response_metadata={}, id='4c364584-aeec-46f9-b2e6-7ba78c33eddb'),\n",
      "              HumanMessage(content='Quais sao os ingredientes do Condotril', additional_kwargs={}, response_metadata={}, id='bd65c640-c20f-4850-bd1e-bc0c75c565cb'),\n",
      "              AIMessage(content='', additional_kwargs={'tool_calls': [{'id': 'call_d29rx5ZbEQgD6bnRSRRZ4cNI', 'function': {'arguments': '{\"question\":\"Quais são os ingredientes do Condotril?\"}', 'name': 'ArticleInformation'}, 'type': 'function'}], 'refusal': None}, response_metadata={'token_usage': {'completion_tokens': 23, 'prompt_tokens': 157, 'total_tokens': 180, 'completion_tokens_details': None, 'prompt_tokens_details': None}, 'model_name': 'gpt-4o-mini', 'system_fingerprint': 'fp_04751d0b65', 'prompt_filter_results': [{'prompt_index': 0, 'content_filter_results': {'hate': {'filtered': False, 'severity': 'safe'}, 'jailbreak': {'filtered': False, 'detected': False}, 'self_harm': {'filtered': False, 'severity': 'safe'}, 'sexual': {'filtered': False, 'severity': 'safe'}, 'violence': {'filtered': False, 'severity': 'safe'}}}], 'finish_reason': 'tool_calls', 'logprobs': None, 'content_filter_results': {}}, id='run-beea688d-d265-4dd3-b22b-1f035fe71d0a-0', tool_calls=[{'name': 'ArticleInformation', 'args': {'question': 'Quais são os ingredientes do Condotril?'}, 'id': 'call_d29rx5ZbEQgD6bnRSRRZ4cNI', 'type': 'tool_call'}], usage_metadata={'input_tokens': 157, 'output_tokens': 23, 'total_tokens': 180, 'input_token_details': {}, 'output_token_details': {}}),\n",
      "              ToolMessage(content='[\"Condotril\\\\n\\\\nMedicamento: Condotril\\\\n\\\\n=D MYPharm\\\\u00e3\\\\n\\\\nCONDOTRIL\\\\n\\\\nO QUE \\\\u00c9 CONDOTRIL?\\\\n\\\\nCONDOTRIL \\\\u00e9 um suplemento alimentar que cont\\\\u00e9m Sulfato de Glucosamina, Sulfato de Condroitina,\\\\nMSM e outros compostos como a Vitamina C e Mangan\\\\u00eas. A Vitamina C contribui para a normal for-\\\\nma\\\\u00e7\\\\u00e3o de colag\\\\u00e9nio para o funcionamento normal dos ossos e das cartilagens. O Mangan\\\\u00eas con-\\\\ntribui para a manuten\\\\u00e7\\\\u00e3o de ossos normais e a normal forma\\\\u00e7\\\\u00e3o de tecidos conjuntivos.\\\\n\\\\nOs suplementos alimentares s\\\\u00e3o g\\\\u00e9neros aliment\\\\u00edcios que se destinam a complementar e/ou a\\\\nsuplementar o regime alimentar normal n\\\\u00e3o devendo ser utilizados como substitutos de um regime\\\\nalimentar variado. Constituem fontes concentradas de determinadas subst\\\\u00e2ncias nutrientes ou\\\\noutras, com efeito nutricional ou fisiol\\\\u00f3gico. \\\\u00c9 importante um regime alimentar equilibrado e um\\\\nmodo de vida saud\\\\u00e1vel.\", \"Condotril\\\\n\\\\nConsumir de prefer\\\\u00eancia antes do fim de...: Ver embalagem. -\\\\nLote: Ver embalagem.\\\\n\\\\nRepresentado e distribu\\\\u00eddo por:\\\\nMYPHARMA S.A.\\\\n\\\\nTv. Ant\\\\u00f3nio Ferreira Rito, 43\\\\n4705-112 Braga - PORTUGAL\\\\n\\\\ngeralomypharma,.pt Good Mm..nSI..MZ &\\\\n\\\\nwww.mypharma.pt\", \"Condotril\\\\n\\\\n*VRN: Valor de Refer\\\\u00eancia do Nutriente segundo o Regulamento (UE) n\\\\u00ba 1169/2011\\\\n**n.d.: n\\\\u00e3o definido\\\\n\\\\nATEN\\\\u00c7\\\\u00c3O: N\\\\u00e3o exceder a toma di\\\\u00e1ria recomendada salvo indica\\\\u00e7\\\\u00e3o de um profissional de sa\\\\u00fade.\\\\nO produto n\\\\u00e3o deve ser utilizado em caso de hipersensibilidade, alergia e quando estejam descritas\\\\nintera\\\\u00e7\\\\u00f5es de outro produto com qualquer um dos constituintes da formula\\\\u00e7\\\\u00e3o.\\\\n\\\\nN\\\\u00e3o recomendado em crian\\\\u00e7as e adolescentes.\\\\n\\\\nO produto n\\\\u00e3o deve ser utilizado em caso de alergia ao marisco.\\\\n\\\\nSe estiver a tomar anticoagulantes, consultar o seu m\\\\u00e9dico ou farmac\\\\u00eautico antes da toma do\\\\nproduto.\\\\n\\\\nDevido \\\\u00e0 falta de estudos que comprovem a seguran\\\\u00e7a do seu uso durante a gravidez e aleitamento,\\\\neste suplemento n\\\\u00e3o deve ser utilizado nestas situa\\\\u00e7\\\\u00f5es, salvo indica\\\\u00e7\\\\u00e3o m\\\\u00e9dica.\\\\n\\\\nCondi\\\\u00e7\\\\u00f5es de armazenamento:\\\\nConservar em local seco na embalagem original e a temperatura inferior a 25\\\\u00baC.\\\\nPreservar da luz e do calor. Manter fora do alcance e da vis\\\\u00e3o das crian\\\\u00e7as.\\\\n\\\\nDose di\\\\u00e1ria recomendada: 1 saqueta por dia.\\\\nModo de tomar: Dissolva o conte\\\\u00fado da saqueta em \\\\u00e1gua ou noutro l\\\\u00edquido.\\\\nN\\\\u00famero de doses por embalagem: 30.\\\\n\\\\nConsumir de prefer\\\\u00eancia antes do fim de...: Ver embalagem. -\\\\nLote: Ver embalagem.\"]', name='ArticleInformation', id='b6f7538b-d216-4f29-8140-c425399db1f0', tool_call_id='call_d29rx5ZbEQgD6bnRSRRZ4cNI'),\n",
      "              AIMessage(content='O Condotril é um suplemento alimentar que contém os seguintes ingredientes principais:\\n\\n1. **Sulfato de Glucosamina** - Um composto que ajuda na manutenção da saúde das articulações.\\n2. **Sulfato de Condroitina** - Outro componente que contribui para a saúde das articulações e cartilagens.\\n3. **MSM (Metilsulfonilmetano)** - Um composto orgânico que pode ajudar a reduzir a dor e a inflamação nas articulações.\\n4. **Vitamina C** - Contribui para a normal formação de colágeno, essencial para o funcionamento normal dos ossos e cartilagens.\\n5. **Manganês** - Ajuda na manutenção de ossos normais e na formação de tecidos conjuntivos.\\n\\nAlém desses ingredientes, o Condotril é projetado para complementar a dieta normal e não deve ser utilizado como substituto de uma alimentação variada. É importante seguir uma dieta equilibrada e um estilo de vida saudável ao utilizar suplementos alimentares. \\n\\nO produto é distribuído pela MYPHARMA S.A. e deve ser armazenado em local seco, em temperatura inferior a 25°C, protegido da luz e do calor, e fora do alcance de crianças. A dose diária recomendada é de 1 saqueta por dia, que deve ser dissolvida em água ou outro líquido.', additional_kwargs={'refusal': None}, response_metadata={'token_usage': {'completion_tokens': 280, 'prompt_tokens': 1081, 'total_tokens': 1361, 'completion_tokens_details': None, 'prompt_tokens_details': None}, 'model_name': 'gpt-4o-mini', 'system_fingerprint': 'fp_04751d0b65', 'prompt_filter_results': [{'prompt_index': 0, 'content_filter_results': {'hate': {'filtered': False, 'severity': 'safe'}, 'jailbreak': {'filtered': False, 'detected': False}, 'self_harm': {'filtered': False, 'severity': 'safe'}, 'sexual': {'filtered': False, 'severity': 'safe'}, 'violence': {'filtered': False, 'severity': 'safe'}}}], 'finish_reason': 'stop', 'logprobs': None, 'content_filter_results': {'hate': {'filtered': False, 'severity': 'safe'}, 'protected_material_code': {'filtered': False, 'detected': False}, 'protected_material_text': {'filtered': False, 'detected': False}, 'self_harm': {'filtered': False, 'severity': 'safe'}, 'sexual': {'filtered': False, 'severity': 'safe'}, 'violence': {'filtered': False, 'severity': 'safe'}}}, id='run-0d17f044-1ff0-4265-91ed-e4417bc37fbd-0', usage_metadata={'input_tokens': 1081, 'output_tokens': 280, 'total_tokens': 1361, 'input_token_details': {}, 'output_token_details': {}})]}\n",
      "O Condotril é um suplemento alimentar que contém os seguintes ingredientes principais:\n",
      "\n",
      "1. **Sulfato de Glucosamina** - Um composto que ajuda na manutenção da saúde das articulações.\n",
      "2. **Sulfato de Condroitina** - Outro componente que contribui para a saúde das articulações e cartilagens.\n",
      "3. **MSM (Metilsulfonilmetano)** - Um composto orgânico que pode ajudar a reduzir a dor e a inflamação nas articulações.\n",
      "4. **Vitamina C** - Contribui para a normal formação de colágeno, essencial para o funcionamento normal dos ossos e cartilagens.\n",
      "5. **Manganês** - Ajuda na manutenção de ossos normais e na formação de tecidos conjuntivos.\n",
      "\n",
      "Além desses ingredientes, o Condotril é projetado para complementar a dieta normal e não deve ser utilizado como substituto de uma alimentação variada. É importante seguir uma dieta equilibrada e um estilo de vida saudável ao utilizar suplementos alimentares. \n",
      "\n",
      "O produto é distribuído pela MYPHARMA S.A. e deve ser armazenado em local seco, em temperatura inferior a 25°C, protegido da luz e do calor, e fora do alcance de crianças. A dose diária recomendada é de 1 saqueta por dia, que deve ser dissolvida em água ou outro líquido.\n"
     ]
    }
   ],
   "source": [
    "question = \"quais sao os ingredientes do condotril?\"\n",
    "response = get_chatbot_response(question)"
   ]
  },
  {
   "cell_type": "code",
   "execution_count": null,
   "metadata": {},
   "outputs": [],
   "source": [
    "print(response)"
   ]
  },
  {
   "cell_type": "markdown",
   "metadata": {},
   "source": [
    "# Trabalho Futuro"
   ]
  },
  {
   "cell_type": "markdown",
   "metadata": {},
   "source": [
    "Implementação de histórico de mensagens"
   ]
  },
  {
   "cell_type": "code",
   "execution_count": null,
   "metadata": {},
   "outputs": [],
   "source": [
    "from langchain_core.messages import HumanMessage\n",
    "from langgraph.checkpoint.memory import MemorySaver\n",
    "from langgraph.graph import START, MessagesState, StateGraph\n",
    "import uuid \n",
    "\n",
    "# Configuração do workflow\n",
    "workflow = StateGraph(MessagesState)\n",
    "\n",
    "# Função que chama o modelo\n",
    "def call_model(state: MessagesState):\n",
    "    response = model.invoke(state[\"messages\"])\n",
    "    return {\"messages\": response}\n",
    "\n",
    "# Configura o workflow\n",
    "workflow.add_edge(START, \"model\")\n",
    "workflow.add_node(\"model\", call_model)\n",
    "\n",
    "# Adicionar memória\n",
    "memory = MemorySaver()\n",
    "app = workflow.compile(checkpointer=memory)\n",
    "\n",
    "threads = {}\n",
    "\n",
    "\n",
    "def get_session_id():\n",
    "    return str(uuid.uuid4())\n",
    "\n",
    "def get_session_history(session_id: str):\n",
    "    if session_id not in threads:\n",
    "        threads[session_id] = {\"messages\": []}  \n",
    "    return threads[session_id]\n",
    "\n",
    "def start_conversation(query:str, session_id: str = None):\n",
    "\n",
    "    if session_id is None:\n",
    "        session_id = get_session_id()\n",
    "\n",
    "    # Inicializa o thread se ainda não existir\n",
    "    session_history = get_session_history(session_id)\n",
    "\n",
    "    user_message = HumanMessage(query)\n",
    "    session_history[\"messages\"].append(user_message)\n",
    "\n",
    "    system_prompt =  SystemMessage(\"\"\"Your role is to act as a thorough research assistant, providing complete and detailed answers based on the given context. \n",
    "  \n",
    "    Your final answer should be as complete as possible. Do not oversimplify or summarize unnecessaraly, considering the results of the tools you used.\n",
    "    Do not oversimplify or summarize the answer.\n",
    "\n",
    "    If you are unsure about what tool to use or how to correct an error, you should ask the user for help.\"\"\")\n",
    "    \n",
    "    # response1 = graph.invoke({'messages': [system_prompt, HumanMessage(content=result)]}, debug=True)\n",
    "    output = app.invoke(\n",
    "        {\"messages\": session_history[\"messages\"] + [system_prompt]},\n",
    "        config={\"configurable\": {\"thread_id\": session_id}},\n",
    "        debug=True\n",
    "    )\n",
    "    \n",
    "    # Atualiza o histórico com a resposta do modelo\n",
    "    session_history[\"messages\"] = output[\"messages\"]\n",
    "\n",
    "    return session_id, output"
   ]
  },
  {
   "cell_type": "code",
   "execution_count": null,
   "metadata": {},
   "outputs": [],
   "source": [
    "# Primeira interação - nova sessão será criada\n",
    "query1 = \"Quais são os ingredientes do Condotril?\"\n",
    "session_id, output_1 = start_conversation(query1)\n",
    "print(f\"Session ID: {session_id}\")\n",
    "print(output_1[\"messages\"][-1].content)\n",
    "\n",
    "# Segunda interação na mesma sessão\n",
    "query2 = \"Qual é o meu nome de medicamento?\"\n",
    "_, output_2 = start_conversation(query2, session_id)\n",
    "print(output_2[\"messages\"][-1].content)\n",
    "\n",
    "# Nova interação sem especificar sessão - cria nova sessão\n",
    "query3 = \"Qual é o meu nome de medicamento?\"\n",
    "new_session_id, output_3 = start_conversation(query3)\n",
    "print(f\"New Session ID: {new_session_id}\")\n",
    "print(output_3[\"messages\"][-1].content)\n",
    "\n",
    "# Ver histórico de todas as sessões\n",
    "print(\"\\nSessão 1 Histórico:\")\n",
    "for message in threads[session_id][\"messages\"]:\n",
    "    print(message.content)\n",
    "\n",
    "print(\"\\nNova Sessão Histórico:\")\n",
    "for message in threads[new_session_id][\"messages\"]:\n",
    "    print(message.content)"
   ]
  }
 ],
 "metadata": {
  "kernelspec": {
   "display_name": "Python 3",
   "language": "python",
   "name": "python3"
  },
  "language_info": {
   "codemirror_mode": {
    "name": "ipython",
    "version": 3
   },
   "file_extension": ".py",
   "mimetype": "text/x-python",
   "name": "python",
   "nbconvert_exporter": "python",
   "pygments_lexer": "ipython3",
   "version": "3.12.3"
  }
 },
 "nbformat": 4,
 "nbformat_minor": 2
}
