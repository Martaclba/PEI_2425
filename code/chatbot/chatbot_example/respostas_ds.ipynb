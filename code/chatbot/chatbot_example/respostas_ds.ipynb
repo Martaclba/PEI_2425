{
 "cells": [
  {
   "cell_type": "code",
   "execution_count": 34,
   "metadata": {},
   "outputs": [
    {
     "name": "stdout",
     "output_type": "stream",
     "text": [
      "Defaulting to user installation because normal site-packages is not writeable\n",
      "Requirement already satisfied: pandas in c:\\users\\catar\\appdata\\local\\packages\\pythonsoftwarefoundation.python.3.12_qbz5n2kfra8p0\\localcache\\local-packages\\python312\\site-packages (2.2.3)\n",
      "Requirement already satisfied: numpy>=1.26.0 in c:\\users\\catar\\appdata\\local\\packages\\pythonsoftwarefoundation.python.3.12_qbz5n2kfra8p0\\localcache\\local-packages\\python312\\site-packages (from pandas) (1.26.4)\n",
      "Requirement already satisfied: python-dateutil>=2.8.2 in c:\\users\\catar\\appdata\\local\\packages\\pythonsoftwarefoundation.python.3.12_qbz5n2kfra8p0\\localcache\\local-packages\\python312\\site-packages (from pandas) (2.9.0.post0)\n",
      "Requirement already satisfied: pytz>=2020.1 in c:\\users\\catar\\appdata\\local\\packages\\pythonsoftwarefoundation.python.3.12_qbz5n2kfra8p0\\localcache\\local-packages\\python312\\site-packages (from pandas) (2024.1)\n",
      "Requirement already satisfied: tzdata>=2022.7 in c:\\users\\catar\\appdata\\local\\packages\\pythonsoftwarefoundation.python.3.12_qbz5n2kfra8p0\\localcache\\local-packages\\python312\\site-packages (from pandas) (2024.2)\n",
      "Requirement already satisfied: six>=1.5 in c:\\users\\catar\\appdata\\local\\packages\\pythonsoftwarefoundation.python.3.12_qbz5n2kfra8p0\\localcache\\local-packages\\python312\\site-packages (from python-dateutil>=2.8.2->pandas) (1.16.0)\n"
     ]
    },
    {
     "name": "stderr",
     "output_type": "stream",
     "text": [
      "\n",
      "[notice] A new release of pip is available: 24.2 -> 24.3.1\n",
      "[notice] To update, run: C:\\Users\\catar\\AppData\\Local\\Microsoft\\WindowsApps\\PythonSoftwareFoundation.Python.3.12_qbz5n2kfra8p0\\python.exe -m pip install --upgrade pip\n"
     ]
    }
   ],
   "source": [
    "!pip install pandas"
   ]
  },
  {
   "cell_type": "code",
   "execution_count": 2,
   "metadata": {},
   "outputs": [],
   "source": [
    "import pandas as pd"
   ]
  },
  {
   "cell_type": "code",
   "execution_count": 3,
   "metadata": {},
   "outputs": [],
   "source": [
    "resposta1 = \"\"\"Os ingredientes do Condotril incluem: agentes de volume como Maltodextrina e Fosfato dicálcico; \n",
    "            compostos principais ativos: Sulfato de glucosamina (marinho), \n",
    "            Sulfato de condroitina,\n",
    "            Cartilagem de tubarão,\n",
    "            Metilsulfonilmetano (MSM),\n",
    "            Extrato seco de Bambusa vulgaris (bambu), \n",
    "            exsudado do caule (doseado a 75% de sílica), \n",
    "            Extrato seco de Harpagophytum procumbens (harpago), \n",
    "            raiz (doseado a 2% de harpagósidos), \n",
    "            Colagénio hidrolisado tipo II, \n",
    "            Ácido hialurónico (hialuronato de sódio) \n",
    "            e outros ingredientes como: Aroma de laranja, \n",
    "            Ácido cítrico (acidificante),\n",
    "            Dióxido de silício (antiaglomerante), \n",
    "            Gluconato de manganês (manganês) e Sucralose (edulcorante)\"\"\""
   ]
  },
  {
   "cell_type": "code",
   "execution_count": 4,
   "metadata": {},
   "outputs": [],
   "source": [
    "resposta2 = \"\"\"Os ingredientes do Duobiotic incluem: Fruto-oligossacáridos;\n",
    "Inulina; \n",
    "Maltodextrina de arroz (agente de volume); \n",
    "Bactérias probióticas: \n",
    "Lactobacillus rhamnosus,\n",
    "Bifidobacterium bifidus, \n",
    "Bifidobacterium lactis,\n",
    "Bifidobacterium longum,\n",
    "Lactobacillus acidophilus,\n",
    "Lactobacillus bulgaricus,\n",
    "Streptococcus thermophilus; Aroma de iogurte;\n",
    "Dióxido de silício (antiaglomerante);\n",
    "Sucralose (edulcorante);\n",
    "Vitaminas:\n",
    "Nicotinamida (Vitamina B3),\n",
    "D-pantotenato de cálcio (Vitamina B5),\n",
    "Cloridrato de piridoxina (Vitamina B6),\n",
    "Cloridrato de tiamina (Vitamina B1),\n",
    "Ácido fólico (ácido pteroilmonoglutâmico),\n",
    "Filoquinona (Vitamina K),\n",
    "Cianocobalamina (Vitamina B12).\n",
    "\"\"\""
   ]
  },
  {
   "cell_type": "code",
   "execution_count": 5,
   "metadata": {},
   "outputs": [],
   "source": [
    "resposta3 = \"\"\"Os ingredientes do Neurofil incluem:\n",
    "Óleo de peixe concentrado rico em ácidos gordos Ómega-3 (EPA e DHA);\n",
    "Agentes de revestimento e outros aditivos:\n",
    "Gelatina,\n",
    "Glicerol (humidificante),\n",
    "Corantes: óxido de ferro vermelho, óxido de ferro negro,\n",
    "Óxido de magnésio (magnésio),\n",
    "Emulsionante: monoestearato de glicerilo,\n",
    "Espessante: cera de abelhas;\n",
    "Vitaminas:\n",
    "Vitamina E (D-alfa-tocoferol),\n",
    "Vitamina B12 (Cianocobalamina),\n",
    "Ácido fólico (ácido pteroilmonoglutâmico).\"\"\""
   ]
  },
  {
   "cell_type": "code",
   "execution_count": 6,
   "metadata": {},
   "outputs": [],
   "source": [
    "resposta4 = \"\"\"O Condotril oferece benefícios para a saúde das articulações, tais como:\n",
    "Melhoria da saúde das articulações: Ajuda a manter a integridade da cartilagem e reduzir a dor associada a doenças articulares.\n",
    "A sua composição contém vitamina C que contribiu para a normal formação de colagénio para o funcionamento normal dos ossos e das cartilagens, e\n",
    "Contém também manganês, que contribui para a manutenção dos ossos normais e para a normal formação de tecidos conjuntivos.\n",
    "\"\"\""
   ]
  },
  {
   "cell_type": "code",
   "execution_count": 7,
   "metadata": {},
   "outputs": [],
   "source": [
    "resposta5  = \"\"\"O Duobiotic, um suplemento que contém lactobacilos e bifidobactérias, é enriquecido com açúcares não digeríveis e vitaminas que atuam como substrato para o crescimento e viabilidade de microrganismos benéficos para a flora intestinal.\n",
    "Oferece benefícios para a saúde intestinal, fortalecimento do sistema imunológico e melhoria na absorção de nutrientes e digestão,\n",
    "contribuindo para o equilíbrio geral do organismo.\"\"\""
   ]
  },
  {
   "cell_type": "code",
   "execution_count": 8,
   "metadata": {},
   "outputs": [],
   "source": [
    "resposta6 = \"\"\"O Neurofil oferece benefícios para a saúde cerebral, cardiovascular e nervosa, resultantes dos ácidos DHA e EPA. \n",
    "Devido à sua concentração de magnésio e vitamina B12, melhora o humor e apoia a saúde óssea e muscular, além de possuir propriedades antioxidantes, \n",
    "graças à vitamina E, que promovem o bem-estar geral.\"\"\""
   ]
  },
  {
   "cell_type": "code",
   "execution_count": 9,
   "metadata": {},
   "outputs": [],
   "source": [
    "resposta7 = \"\"\"Os efeitos do Condotril incluem melhorias na saúde das articulações e na formação normal de tecidos conjuntivos, \n",
    "redução de inflamações e dor, e fortalecimento das cartilagens e ossos devido à promoção da formação de colagéneo.\"\"\""
   ]
  },
  {
   "cell_type": "code",
   "execution_count": 10,
   "metadata": {},
   "outputs": [],
   "source": [
    "resposta8 = \"\"\"Os efeitos do Duobiotic incluem melhorias na saúde digestiva e intestinal, bem como na absorção de nutrientes. Também apoia o sistema imunitário, \n",
    "regula o trânsito intestinal e oferece suporte nutricional por meio de vitaminas essenciais.\"\"\""
   ]
  },
  {
   "cell_type": "code",
   "execution_count": 11,
   "metadata": {},
   "outputs": [],
   "source": [
    "resposta9 = \"\"\"Os efeitos do Neurofil incluem a melhoria da função cognitiva e da memória, o apoio à saúde cardiovascular, o aumento da energia e a redução da fadiga, \n",
    "além de possuir efeitos antioxidantes e promover a saúde do sistema nervoso.\"\"\""
   ]
  },
  {
   "cell_type": "code",
   "execution_count": 12,
   "metadata": {},
   "outputs": [],
   "source": [
    "resposta10 = \"\"\"O Duobiotic deve ser tomado 1 saqueta dia. Dissolvendo o conteúdo da saqueta em água ou noutro líquido e tomar imediatamente, de preferência durante\n",
    "uma refeição principal.\"\"\""
   ]
  },
  {
   "cell_type": "code",
   "execution_count": 13,
   "metadata": {},
   "outputs": [],
   "source": [
    "resposta11 = \"\"\" O Duobiotic deve ser tomado 1 saqueta dia. Dissolvendo o conteúdo da saqueta em água ou noutro líquido e tomar imediatamente, de preferência durante\n",
    "uma refeição principal.\"\"\""
   ]
  },
  {
   "cell_type": "code",
   "execution_count": 14,
   "metadata": {},
   "outputs": [],
   "source": [
    "resposta12 = \"\"\"O Neurofil deve ser tomado 1 a 2 cápsulas por dia, ingeridas com água, às refeições\"\"\""
   ]
  },
  {
   "cell_type": "code",
   "execution_count": 15,
   "metadata": {},
   "outputs": [],
   "source": [
    "resposta13=\"\"\"Conservar em local seco na embalagem original e a temperatura inferior a 25ºC.\n",
    "Preservar da luz e do calor.\n",
    "Manter fora do alcance e da visão das crianças.\"\"\""
   ]
  },
  {
   "cell_type": "code",
   "execution_count": 16,
   "metadata": {},
   "outputs": [],
   "source": [
    "resposta14 = \"\"\"Conservar em local seco na embalagem original e a temperatura inferior a 25ºC.\n",
    "Preservar da luz e do calor. \n",
    "Manter fora do alcance e da visão das crianças.\"\"\""
   ]
  },
  {
   "cell_type": "code",
   "execution_count": 17,
   "metadata": {},
   "outputs": [],
   "source": [
    "resposta15 = \"\"\"Preservar da luz e do calor. Manter fora do\n",
    "alcance e da vista das crianças. \n",
    "Em crianças e adolescentes com idade inferior a 18 anos, apenas por indicação médica.\"\"\""
   ]
  },
  {
   "cell_type": "code",
   "execution_count": 18,
   "metadata": {},
   "outputs": [],
   "source": [
    "resposta16 = \"\"\"O Condotril não deve ser utilizado por pessoas com alergia a mariscos, \n",
    "hipersensibilidade a qualquer um dos ingredientes, grávidas ou lactantes, salvo indicação médica. Não deve ser utilizado por crianças ou adolescentes. \n",
    "Se estiver a tomar anticoagulantes, consulte o seu médico ou farmacêutico antes de tomar o produto.\"\"\""
   ]
  },
  {
   "cell_type": "code",
   "execution_count": 19,
   "metadata": {},
   "outputs": [],
   "source": [
    "resposta17 = \"\"\"Duobiotic não deve ser usado por pessoas alérgicas aos seus componentes, \n",
    "grávidas ou lactantes, salvo indicação médica.\n",
    "O produto não deve ser utilizado em caso de casos de hipersensibilidade, alergia e quando estejam descritas interações de outro produtos com qualuqer um dos constituintes da formulação.\"\"\""
   ]
  },
  {
   "cell_type": "code",
   "execution_count": 20,
   "metadata": {},
   "outputs": [],
   "source": [
    "resposta18 = \"\"\"Neurofil não deve ser usado por pessoas grávidas ou lactantes, salvo indicação médica. \n",
    "O produto não deve ser utilizado em caso de\n",
    "hipersensibilidade, alergia e quando estejam descritas interações de outro produto com qualquer um dos constituintes da\n",
    "formulação.\"\"\""
   ]
  },
  {
   "cell_type": "code",
   "execution_count": 21,
   "metadata": {},
   "outputs": [],
   "source": [
    "resposta19 = \"\"\"Número de doses por embalagem: 30.\"\"\""
   ]
  },
  {
   "cell_type": "code",
   "execution_count": 22,
   "metadata": {},
   "outputs": [],
   "source": [
    "resposta20 = \"\"\"Número de doses por embalagem: 8.\"\"\""
   ]
  },
  {
   "cell_type": "code",
   "execution_count": 23,
   "metadata": {},
   "outputs": [],
   "source": [
    "resposta21 = \"\"\"Número de doses por embalagem: 60 a 30.\"\"\""
   ]
  },
  {
   "cell_type": "code",
   "execution_count": 24,
   "metadata": {},
   "outputs": [],
   "source": [
    "questions = [\"Quais sao os ingredientes do Condotril?\",\n",
    "\"Quais sao os ingredientes do Duobiotic?\",\n",
    "\"Quais sao os ingredientes do Neurofil?\",\n",
    "\"Quais sao os efeitos do Condotril?\",\n",
    "\"Quais sao os efeitos do Duobiotic?\",\n",
    "\"Quais sao os efeitos do Neurofil?\",\n",
    "\"Qual e o processo de toma do Condotril?\",\n",
    "\"Qual e o processo de toma do Duobiotic?\",\n",
    "\"Qual e o processo de toma do Neurofil?\",\n",
    "\"Quais sao as condicoes de armazenamento do Condotril?\",\n",
    "\"Quais sao as condicoes de armazenamento do Duobiotic?\",\n",
    "\"Quais sao as condicoes de armazenamento do Neurofil?\",\n",
    "\"Em que casos nao se pode tomar Condotril?\",\n",
    "\"Em que casos nao se pode tomar Duobiotic?\",\n",
    "\"Em que casos nao se pode tomar Neurofil?\",\n",
    "\"Quantas doses tem a embalagem do Condotril?\",\n",
    "\"Quantas doses tem a embalagem do Duobiotic?\",\n",
    "\"Quantas doses tem a embalagem do Neurofil?\",]\n",
    "\n",
    "answers = [resposta1, resposta2, resposta3, resposta7, resposta8, resposta9, resposta10, resposta11, resposta12, resposta13, resposta14, resposta15, resposta16, resposta17, resposta18, resposta19, resposta20, resposta21]"
   ]
  },
  {
   "cell_type": "code",
   "execution_count": 25,
   "metadata": {},
   "outputs": [],
   "source": [
    "dict = {\"Questions\": questions, \"Answers\": answers}\n",
    "df = pd.DataFrame(dict)\n",
    "\n",
    "df.to_csv(\"answers.csv\", index=False)"
   ]
  },
  {
   "cell_type": "code",
   "execution_count": null,
   "metadata": {},
   "outputs": [],
   "source": []
  }
 ],
 "metadata": {
  "kernelspec": {
   "display_name": "Python 3",
   "language": "python",
   "name": "python3"
  },
  "language_info": {
   "codemirror_mode": {
    "name": "ipython",
    "version": 3
   },
   "file_extension": ".py",
   "mimetype": "text/x-python",
   "name": "python",
   "nbconvert_exporter": "python",
   "pygments_lexer": "ipython3",
   "version": "3.12.7"
  }
 },
 "nbformat": 4,
 "nbformat_minor": 2
}
